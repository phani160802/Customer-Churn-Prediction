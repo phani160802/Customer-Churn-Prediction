{
 "cells": [
  {
   "cell_type": "markdown",
   "metadata": {},
   "source": [
    "### Random under sampling - Class imbalance\n",
    "### Feature extraction - PCA"
   ]
  },
  {
   "cell_type": "code",
   "execution_count": 2,
   "metadata": {},
   "outputs": [],
   "source": [
    "import pandas as pd\n",
    "import category_encoders as ce\n",
    "import seaborn as sns\n",
    "from sklearn.preprocessing import StandardScaler\n",
    "from sklearn.decomposition import PCA\n",
    "import matplotlib.pyplot as plt"
   ]
  },
  {
   "cell_type": "code",
   "execution_count": 3,
   "metadata": {},
   "outputs": [
    {
     "data": {
      "text/html": [
       "<div>\n",
       "<style scoped>\n",
       "    .dataframe tbody tr th:only-of-type {\n",
       "        vertical-align: middle;\n",
       "    }\n",
       "\n",
       "    .dataframe tbody tr th {\n",
       "        vertical-align: top;\n",
       "    }\n",
       "\n",
       "    .dataframe thead th {\n",
       "        text-align: right;\n",
       "    }\n",
       "</style>\n",
       "<table border=\"1\" class=\"dataframe\">\n",
       "  <thead>\n",
       "    <tr style=\"text-align: right;\">\n",
       "      <th></th>\n",
       "      <th>state</th>\n",
       "      <th>account_length</th>\n",
       "      <th>area_code</th>\n",
       "      <th>international_plan</th>\n",
       "      <th>voice_mail_plan</th>\n",
       "      <th>number_vmail_messages</th>\n",
       "      <th>total_day_minutes</th>\n",
       "      <th>total_day_calls</th>\n",
       "      <th>total_day_charge</th>\n",
       "      <th>total_eve_minutes</th>\n",
       "      <th>total_eve_calls</th>\n",
       "      <th>total_eve_charge</th>\n",
       "      <th>total_night_minutes</th>\n",
       "      <th>total_night_calls</th>\n",
       "      <th>total_night_charge</th>\n",
       "      <th>total_intl_minutes</th>\n",
       "      <th>total_intl_calls</th>\n",
       "      <th>total_intl_charge</th>\n",
       "      <th>number_customer_service_calls</th>\n",
       "      <th>churn</th>\n",
       "    </tr>\n",
       "  </thead>\n",
       "  <tbody>\n",
       "    <tr>\n",
       "      <th>0</th>\n",
       "      <td>OH</td>\n",
       "      <td>107</td>\n",
       "      <td>area_code_415</td>\n",
       "      <td>no</td>\n",
       "      <td>yes</td>\n",
       "      <td>26</td>\n",
       "      <td>161.6</td>\n",
       "      <td>123</td>\n",
       "      <td>27.47</td>\n",
       "      <td>195.5</td>\n",
       "      <td>103</td>\n",
       "      <td>16.62</td>\n",
       "      <td>254.4</td>\n",
       "      <td>103</td>\n",
       "      <td>11.45</td>\n",
       "      <td>13.7</td>\n",
       "      <td>3</td>\n",
       "      <td>3.70</td>\n",
       "      <td>1</td>\n",
       "      <td>no</td>\n",
       "    </tr>\n",
       "    <tr>\n",
       "      <th>1</th>\n",
       "      <td>NJ</td>\n",
       "      <td>137</td>\n",
       "      <td>area_code_415</td>\n",
       "      <td>no</td>\n",
       "      <td>no</td>\n",
       "      <td>0</td>\n",
       "      <td>243.4</td>\n",
       "      <td>114</td>\n",
       "      <td>41.38</td>\n",
       "      <td>121.2</td>\n",
       "      <td>110</td>\n",
       "      <td>10.30</td>\n",
       "      <td>162.6</td>\n",
       "      <td>104</td>\n",
       "      <td>7.32</td>\n",
       "      <td>12.2</td>\n",
       "      <td>5</td>\n",
       "      <td>3.29</td>\n",
       "      <td>0</td>\n",
       "      <td>no</td>\n",
       "    </tr>\n",
       "    <tr>\n",
       "      <th>2</th>\n",
       "      <td>OH</td>\n",
       "      <td>84</td>\n",
       "      <td>area_code_408</td>\n",
       "      <td>yes</td>\n",
       "      <td>no</td>\n",
       "      <td>0</td>\n",
       "      <td>299.4</td>\n",
       "      <td>71</td>\n",
       "      <td>50.90</td>\n",
       "      <td>61.9</td>\n",
       "      <td>88</td>\n",
       "      <td>5.26</td>\n",
       "      <td>196.9</td>\n",
       "      <td>89</td>\n",
       "      <td>8.86</td>\n",
       "      <td>6.6</td>\n",
       "      <td>7</td>\n",
       "      <td>1.78</td>\n",
       "      <td>2</td>\n",
       "      <td>no</td>\n",
       "    </tr>\n",
       "    <tr>\n",
       "      <th>3</th>\n",
       "      <td>OK</td>\n",
       "      <td>75</td>\n",
       "      <td>area_code_415</td>\n",
       "      <td>yes</td>\n",
       "      <td>no</td>\n",
       "      <td>0</td>\n",
       "      <td>166.7</td>\n",
       "      <td>113</td>\n",
       "      <td>28.34</td>\n",
       "      <td>148.3</td>\n",
       "      <td>122</td>\n",
       "      <td>12.61</td>\n",
       "      <td>186.9</td>\n",
       "      <td>121</td>\n",
       "      <td>8.41</td>\n",
       "      <td>10.1</td>\n",
       "      <td>3</td>\n",
       "      <td>2.73</td>\n",
       "      <td>3</td>\n",
       "      <td>no</td>\n",
       "    </tr>\n",
       "    <tr>\n",
       "      <th>4</th>\n",
       "      <td>MA</td>\n",
       "      <td>121</td>\n",
       "      <td>area_code_510</td>\n",
       "      <td>no</td>\n",
       "      <td>yes</td>\n",
       "      <td>24</td>\n",
       "      <td>218.2</td>\n",
       "      <td>88</td>\n",
       "      <td>37.09</td>\n",
       "      <td>348.5</td>\n",
       "      <td>108</td>\n",
       "      <td>29.62</td>\n",
       "      <td>212.6</td>\n",
       "      <td>118</td>\n",
       "      <td>9.57</td>\n",
       "      <td>7.5</td>\n",
       "      <td>7</td>\n",
       "      <td>2.03</td>\n",
       "      <td>3</td>\n",
       "      <td>no</td>\n",
       "    </tr>\n",
       "  </tbody>\n",
       "</table>\n",
       "</div>"
      ],
      "text/plain": [
       "  state  account_length      area_code international_plan voice_mail_plan  \\\n",
       "0    OH             107  area_code_415                 no             yes   \n",
       "1    NJ             137  area_code_415                 no              no   \n",
       "2    OH              84  area_code_408                yes              no   \n",
       "3    OK              75  area_code_415                yes              no   \n",
       "4    MA             121  area_code_510                 no             yes   \n",
       "\n",
       "   number_vmail_messages  total_day_minutes  total_day_calls  \\\n",
       "0                     26              161.6              123   \n",
       "1                      0              243.4              114   \n",
       "2                      0              299.4               71   \n",
       "3                      0              166.7              113   \n",
       "4                     24              218.2               88   \n",
       "\n",
       "   total_day_charge  total_eve_minutes  total_eve_calls  total_eve_charge  \\\n",
       "0             27.47              195.5              103             16.62   \n",
       "1             41.38              121.2              110             10.30   \n",
       "2             50.90               61.9               88              5.26   \n",
       "3             28.34              148.3              122             12.61   \n",
       "4             37.09              348.5              108             29.62   \n",
       "\n",
       "   total_night_minutes  total_night_calls  total_night_charge  \\\n",
       "0                254.4                103               11.45   \n",
       "1                162.6                104                7.32   \n",
       "2                196.9                 89                8.86   \n",
       "3                186.9                121                8.41   \n",
       "4                212.6                118                9.57   \n",
       "\n",
       "   total_intl_minutes  total_intl_calls  total_intl_charge  \\\n",
       "0                13.7                 3               3.70   \n",
       "1                12.2                 5               3.29   \n",
       "2                 6.6                 7               1.78   \n",
       "3                10.1                 3               2.73   \n",
       "4                 7.5                 7               2.03   \n",
       "\n",
       "   number_customer_service_calls churn  \n",
       "0                              1    no  \n",
       "1                              0    no  \n",
       "2                              2    no  \n",
       "3                              3    no  \n",
       "4                              3    no  "
      ]
     },
     "execution_count": 3,
     "metadata": {},
     "output_type": "execute_result"
    }
   ],
   "source": [
    "df = pd.read_csv(\"train.csv\")\n",
    "df.head()"
   ]
  },
  {
   "cell_type": "code",
   "execution_count": 4,
   "metadata": {},
   "outputs": [
    {
     "data": {
      "text/plain": [
       "4250"
      ]
     },
     "execution_count": 4,
     "metadata": {},
     "output_type": "execute_result"
    }
   ],
   "source": [
    "len(df)"
   ]
  },
  {
   "cell_type": "code",
   "execution_count": 5,
   "metadata": {},
   "outputs": [
    {
     "data": {
      "text/plain": [
       "20"
      ]
     },
     "execution_count": 5,
     "metadata": {},
     "output_type": "execute_result"
    }
   ],
   "source": [
    "len(df.columns)"
   ]
  },
  {
   "cell_type": "code",
   "execution_count": 6,
   "metadata": {},
   "outputs": [
    {
     "data": {
      "text/plain": [
       "4250"
      ]
     },
     "execution_count": 6,
     "metadata": {},
     "output_type": "execute_result"
    }
   ],
   "source": [
    "len(df)"
   ]
  },
  {
   "cell_type": "code",
   "execution_count": 7,
   "metadata": {},
   "outputs": [
    {
     "data": {
      "text/html": [
       "<div>\n",
       "<style scoped>\n",
       "    .dataframe tbody tr th:only-of-type {\n",
       "        vertical-align: middle;\n",
       "    }\n",
       "\n",
       "    .dataframe tbody tr th {\n",
       "        vertical-align: top;\n",
       "    }\n",
       "\n",
       "    .dataframe thead th {\n",
       "        text-align: right;\n",
       "    }\n",
       "</style>\n",
       "<table border=\"1\" class=\"dataframe\">\n",
       "  <thead>\n",
       "    <tr style=\"text-align: right;\">\n",
       "      <th></th>\n",
       "      <th>account_length</th>\n",
       "      <th>number_vmail_messages</th>\n",
       "      <th>total_day_minutes</th>\n",
       "      <th>total_day_calls</th>\n",
       "      <th>total_day_charge</th>\n",
       "      <th>total_eve_minutes</th>\n",
       "      <th>total_eve_calls</th>\n",
       "      <th>total_eve_charge</th>\n",
       "      <th>total_night_minutes</th>\n",
       "      <th>total_night_calls</th>\n",
       "      <th>total_night_charge</th>\n",
       "      <th>total_intl_minutes</th>\n",
       "      <th>total_intl_calls</th>\n",
       "      <th>total_intl_charge</th>\n",
       "      <th>number_customer_service_calls</th>\n",
       "    </tr>\n",
       "  </thead>\n",
       "  <tbody>\n",
       "    <tr>\n",
       "      <th>count</th>\n",
       "      <td>4250.000000</td>\n",
       "      <td>4250.000000</td>\n",
       "      <td>4250.000000</td>\n",
       "      <td>4250.000000</td>\n",
       "      <td>4250.000000</td>\n",
       "      <td>4250.000000</td>\n",
       "      <td>4250.000000</td>\n",
       "      <td>4250.000000</td>\n",
       "      <td>4250.000000</td>\n",
       "      <td>4250.000000</td>\n",
       "      <td>4250.000000</td>\n",
       "      <td>4250.000000</td>\n",
       "      <td>4250.000000</td>\n",
       "      <td>4250.000000</td>\n",
       "      <td>4250.000000</td>\n",
       "    </tr>\n",
       "    <tr>\n",
       "      <th>mean</th>\n",
       "      <td>100.236235</td>\n",
       "      <td>7.631765</td>\n",
       "      <td>180.259600</td>\n",
       "      <td>99.907294</td>\n",
       "      <td>30.644682</td>\n",
       "      <td>200.173906</td>\n",
       "      <td>100.176471</td>\n",
       "      <td>17.015012</td>\n",
       "      <td>200.527882</td>\n",
       "      <td>99.839529</td>\n",
       "      <td>9.023892</td>\n",
       "      <td>10.256071</td>\n",
       "      <td>4.426353</td>\n",
       "      <td>2.769654</td>\n",
       "      <td>1.559059</td>\n",
       "    </tr>\n",
       "    <tr>\n",
       "      <th>std</th>\n",
       "      <td>39.698401</td>\n",
       "      <td>13.439882</td>\n",
       "      <td>54.012373</td>\n",
       "      <td>19.850817</td>\n",
       "      <td>9.182096</td>\n",
       "      <td>50.249518</td>\n",
       "      <td>19.908591</td>\n",
       "      <td>4.271212</td>\n",
       "      <td>50.353548</td>\n",
       "      <td>20.093220</td>\n",
       "      <td>2.265922</td>\n",
       "      <td>2.760102</td>\n",
       "      <td>2.463069</td>\n",
       "      <td>0.745204</td>\n",
       "      <td>1.311434</td>\n",
       "    </tr>\n",
       "    <tr>\n",
       "      <th>min</th>\n",
       "      <td>1.000000</td>\n",
       "      <td>0.000000</td>\n",
       "      <td>0.000000</td>\n",
       "      <td>0.000000</td>\n",
       "      <td>0.000000</td>\n",
       "      <td>0.000000</td>\n",
       "      <td>0.000000</td>\n",
       "      <td>0.000000</td>\n",
       "      <td>0.000000</td>\n",
       "      <td>0.000000</td>\n",
       "      <td>0.000000</td>\n",
       "      <td>0.000000</td>\n",
       "      <td>0.000000</td>\n",
       "      <td>0.000000</td>\n",
       "      <td>0.000000</td>\n",
       "    </tr>\n",
       "    <tr>\n",
       "      <th>25%</th>\n",
       "      <td>73.000000</td>\n",
       "      <td>0.000000</td>\n",
       "      <td>143.325000</td>\n",
       "      <td>87.000000</td>\n",
       "      <td>24.365000</td>\n",
       "      <td>165.925000</td>\n",
       "      <td>87.000000</td>\n",
       "      <td>14.102500</td>\n",
       "      <td>167.225000</td>\n",
       "      <td>86.000000</td>\n",
       "      <td>7.522500</td>\n",
       "      <td>8.500000</td>\n",
       "      <td>3.000000</td>\n",
       "      <td>2.300000</td>\n",
       "      <td>1.000000</td>\n",
       "    </tr>\n",
       "    <tr>\n",
       "      <th>50%</th>\n",
       "      <td>100.000000</td>\n",
       "      <td>0.000000</td>\n",
       "      <td>180.450000</td>\n",
       "      <td>100.000000</td>\n",
       "      <td>30.680000</td>\n",
       "      <td>200.700000</td>\n",
       "      <td>100.000000</td>\n",
       "      <td>17.060000</td>\n",
       "      <td>200.450000</td>\n",
       "      <td>100.000000</td>\n",
       "      <td>9.020000</td>\n",
       "      <td>10.300000</td>\n",
       "      <td>4.000000</td>\n",
       "      <td>2.780000</td>\n",
       "      <td>1.000000</td>\n",
       "    </tr>\n",
       "    <tr>\n",
       "      <th>75%</th>\n",
       "      <td>127.000000</td>\n",
       "      <td>16.000000</td>\n",
       "      <td>216.200000</td>\n",
       "      <td>113.000000</td>\n",
       "      <td>36.750000</td>\n",
       "      <td>233.775000</td>\n",
       "      <td>114.000000</td>\n",
       "      <td>19.867500</td>\n",
       "      <td>234.700000</td>\n",
       "      <td>113.000000</td>\n",
       "      <td>10.560000</td>\n",
       "      <td>12.000000</td>\n",
       "      <td>6.000000</td>\n",
       "      <td>3.240000</td>\n",
       "      <td>2.000000</td>\n",
       "    </tr>\n",
       "    <tr>\n",
       "      <th>max</th>\n",
       "      <td>243.000000</td>\n",
       "      <td>52.000000</td>\n",
       "      <td>351.500000</td>\n",
       "      <td>165.000000</td>\n",
       "      <td>59.760000</td>\n",
       "      <td>359.300000</td>\n",
       "      <td>170.000000</td>\n",
       "      <td>30.540000</td>\n",
       "      <td>395.000000</td>\n",
       "      <td>175.000000</td>\n",
       "      <td>17.770000</td>\n",
       "      <td>20.000000</td>\n",
       "      <td>20.000000</td>\n",
       "      <td>5.400000</td>\n",
       "      <td>9.000000</td>\n",
       "    </tr>\n",
       "  </tbody>\n",
       "</table>\n",
       "</div>"
      ],
      "text/plain": [
       "       account_length  number_vmail_messages  total_day_minutes  \\\n",
       "count     4250.000000            4250.000000        4250.000000   \n",
       "mean       100.236235               7.631765         180.259600   \n",
       "std         39.698401              13.439882          54.012373   \n",
       "min          1.000000               0.000000           0.000000   \n",
       "25%         73.000000               0.000000         143.325000   \n",
       "50%        100.000000               0.000000         180.450000   \n",
       "75%        127.000000              16.000000         216.200000   \n",
       "max        243.000000              52.000000         351.500000   \n",
       "\n",
       "       total_day_calls  total_day_charge  total_eve_minutes  total_eve_calls  \\\n",
       "count      4250.000000       4250.000000        4250.000000      4250.000000   \n",
       "mean         99.907294         30.644682         200.173906       100.176471   \n",
       "std          19.850817          9.182096          50.249518        19.908591   \n",
       "min           0.000000          0.000000           0.000000         0.000000   \n",
       "25%          87.000000         24.365000         165.925000        87.000000   \n",
       "50%         100.000000         30.680000         200.700000       100.000000   \n",
       "75%         113.000000         36.750000         233.775000       114.000000   \n",
       "max         165.000000         59.760000         359.300000       170.000000   \n",
       "\n",
       "       total_eve_charge  total_night_minutes  total_night_calls  \\\n",
       "count       4250.000000          4250.000000        4250.000000   \n",
       "mean          17.015012           200.527882          99.839529   \n",
       "std            4.271212            50.353548          20.093220   \n",
       "min            0.000000             0.000000           0.000000   \n",
       "25%           14.102500           167.225000          86.000000   \n",
       "50%           17.060000           200.450000         100.000000   \n",
       "75%           19.867500           234.700000         113.000000   \n",
       "max           30.540000           395.000000         175.000000   \n",
       "\n",
       "       total_night_charge  total_intl_minutes  total_intl_calls  \\\n",
       "count         4250.000000         4250.000000       4250.000000   \n",
       "mean             9.023892           10.256071          4.426353   \n",
       "std              2.265922            2.760102          2.463069   \n",
       "min              0.000000            0.000000          0.000000   \n",
       "25%              7.522500            8.500000          3.000000   \n",
       "50%              9.020000           10.300000          4.000000   \n",
       "75%             10.560000           12.000000          6.000000   \n",
       "max             17.770000           20.000000         20.000000   \n",
       "\n",
       "       total_intl_charge  number_customer_service_calls  \n",
       "count        4250.000000                    4250.000000  \n",
       "mean            2.769654                       1.559059  \n",
       "std             0.745204                       1.311434  \n",
       "min             0.000000                       0.000000  \n",
       "25%             2.300000                       1.000000  \n",
       "50%             2.780000                       1.000000  \n",
       "75%             3.240000                       2.000000  \n",
       "max             5.400000                       9.000000  "
      ]
     },
     "execution_count": 7,
     "metadata": {},
     "output_type": "execute_result"
    }
   ],
   "source": [
    "df.describe()"
   ]
  },
  {
   "cell_type": "markdown",
   "metadata": {},
   "source": [
    "## Data preprocessing"
   ]
  },
  {
   "cell_type": "code",
   "execution_count": 8,
   "metadata": {
    "scrolled": true
   },
   "outputs": [
    {
     "data": {
      "text/plain": [
       "state                            0\n",
       "account_length                   0\n",
       "area_code                        0\n",
       "international_plan               0\n",
       "voice_mail_plan                  0\n",
       "number_vmail_messages            0\n",
       "total_day_minutes                0\n",
       "total_day_calls                  0\n",
       "total_day_charge                 0\n",
       "total_eve_minutes                0\n",
       "total_eve_calls                  0\n",
       "total_eve_charge                 0\n",
       "total_night_minutes              0\n",
       "total_night_calls                0\n",
       "total_night_charge               0\n",
       "total_intl_minutes               0\n",
       "total_intl_calls                 0\n",
       "total_intl_charge                0\n",
       "number_customer_service_calls    0\n",
       "churn                            0\n",
       "dtype: int64"
      ]
     },
     "execution_count": 8,
     "metadata": {},
     "output_type": "execute_result"
    }
   ],
   "source": [
    "df.isnull().sum()"
   ]
  },
  {
   "cell_type": "markdown",
   "metadata": {},
   "source": [
    "Data types of columns"
   ]
  },
  {
   "cell_type": "code",
   "execution_count": 9,
   "metadata": {},
   "outputs": [
    {
     "data": {
      "text/plain": [
       "state                             object\n",
       "account_length                     int64\n",
       "area_code                         object\n",
       "international_plan                object\n",
       "voice_mail_plan                   object\n",
       "number_vmail_messages              int64\n",
       "total_day_minutes                float64\n",
       "total_day_calls                    int64\n",
       "total_day_charge                 float64\n",
       "total_eve_minutes                float64\n",
       "total_eve_calls                    int64\n",
       "total_eve_charge                 float64\n",
       "total_night_minutes              float64\n",
       "total_night_calls                  int64\n",
       "total_night_charge               float64\n",
       "total_intl_minutes               float64\n",
       "total_intl_calls                   int64\n",
       "total_intl_charge                float64\n",
       "number_customer_service_calls      int64\n",
       "churn                             object\n",
       "dtype: object"
      ]
     },
     "execution_count": 9,
     "metadata": {},
     "output_type": "execute_result"
    }
   ],
   "source": [
    "df.dtypes"
   ]
  },
  {
   "cell_type": "markdown",
   "metadata": {},
   "source": [
    "##  encoding data"
   ]
  },
  {
   "cell_type": "markdown",
   "metadata": {},
   "source": [
    " Here international plan and voice mail plan are two columns with yes or no values. The best method to encode categorical variables with values Yes/No is replacing them with 1/0\n",
    "Yes - 1\n",
    "No - 0"
   ]
  },
  {
   "cell_type": "code",
   "execution_count": 10,
   "metadata": {},
   "outputs": [],
   "source": [
    "features=[\"international_plan\",\"voice_mail_plan\",\"churn\"]"
   ]
  },
  {
   "cell_type": "code",
   "execution_count": 11,
   "metadata": {},
   "outputs": [],
   "source": [
    "def encodeYesNo(feature):\n",
    "    df.loc[df[feature] == 'yes', feature] = 1\n",
    "    df.loc[df[feature] == 'no', feature ] = 0"
   ]
  },
  {
   "cell_type": "code",
   "execution_count": 12,
   "metadata": {},
   "outputs": [],
   "source": [
    "for feature in features:\n",
    "    encodeYesNo(feature)"
   ]
  },
  {
   "cell_type": "code",
   "execution_count": 13,
   "metadata": {},
   "outputs": [
    {
     "data": {
      "text/html": [
       "<div>\n",
       "<style scoped>\n",
       "    .dataframe tbody tr th:only-of-type {\n",
       "        vertical-align: middle;\n",
       "    }\n",
       "\n",
       "    .dataframe tbody tr th {\n",
       "        vertical-align: top;\n",
       "    }\n",
       "\n",
       "    .dataframe thead th {\n",
       "        text-align: right;\n",
       "    }\n",
       "</style>\n",
       "<table border=\"1\" class=\"dataframe\">\n",
       "  <thead>\n",
       "    <tr style=\"text-align: right;\">\n",
       "      <th></th>\n",
       "      <th>international_plan</th>\n",
       "      <th>voice_mail_plan</th>\n",
       "      <th>churn</th>\n",
       "    </tr>\n",
       "  </thead>\n",
       "  <tbody>\n",
       "    <tr>\n",
       "      <th>0</th>\n",
       "      <td>0</td>\n",
       "      <td>1</td>\n",
       "      <td>0</td>\n",
       "    </tr>\n",
       "    <tr>\n",
       "      <th>1</th>\n",
       "      <td>0</td>\n",
       "      <td>0</td>\n",
       "      <td>0</td>\n",
       "    </tr>\n",
       "    <tr>\n",
       "      <th>2</th>\n",
       "      <td>1</td>\n",
       "      <td>0</td>\n",
       "      <td>0</td>\n",
       "    </tr>\n",
       "    <tr>\n",
       "      <th>3</th>\n",
       "      <td>1</td>\n",
       "      <td>0</td>\n",
       "      <td>0</td>\n",
       "    </tr>\n",
       "    <tr>\n",
       "      <th>4</th>\n",
       "      <td>0</td>\n",
       "      <td>1</td>\n",
       "      <td>0</td>\n",
       "    </tr>\n",
       "  </tbody>\n",
       "</table>\n",
       "</div>"
      ],
      "text/plain": [
       "   international_plan  voice_mail_plan  churn\n",
       "0                   0                1      0\n",
       "1                   0                0      0\n",
       "2                   1                0      0\n",
       "3                   1                0      0\n",
       "4                   0                1      0"
      ]
     },
     "execution_count": 13,
     "metadata": {},
     "output_type": "execute_result"
    }
   ],
   "source": [
    "df[features].head()"
   ]
  },
  {
   "cell_type": "code",
   "execution_count": 14,
   "metadata": {},
   "outputs": [
    {
     "data": {
      "text/html": [
       "<div>\n",
       "<style scoped>\n",
       "    .dataframe tbody tr th:only-of-type {\n",
       "        vertical-align: middle;\n",
       "    }\n",
       "\n",
       "    .dataframe tbody tr th {\n",
       "        vertical-align: top;\n",
       "    }\n",
       "\n",
       "    .dataframe thead th {\n",
       "        text-align: right;\n",
       "    }\n",
       "</style>\n",
       "<table border=\"1\" class=\"dataframe\">\n",
       "  <thead>\n",
       "    <tr style=\"text-align: right;\">\n",
       "      <th></th>\n",
       "      <th>state</th>\n",
       "      <th>account_length</th>\n",
       "      <th>area_code</th>\n",
       "      <th>international_plan</th>\n",
       "      <th>voice_mail_plan</th>\n",
       "      <th>number_vmail_messages</th>\n",
       "      <th>total_day_minutes</th>\n",
       "      <th>total_day_calls</th>\n",
       "      <th>total_day_charge</th>\n",
       "      <th>total_eve_minutes</th>\n",
       "      <th>total_eve_calls</th>\n",
       "      <th>total_eve_charge</th>\n",
       "      <th>total_night_minutes</th>\n",
       "      <th>total_night_calls</th>\n",
       "      <th>total_night_charge</th>\n",
       "      <th>total_intl_minutes</th>\n",
       "      <th>total_intl_calls</th>\n",
       "      <th>total_intl_charge</th>\n",
       "      <th>number_customer_service_calls</th>\n",
       "      <th>churn</th>\n",
       "    </tr>\n",
       "  </thead>\n",
       "  <tbody>\n",
       "    <tr>\n",
       "      <th>0</th>\n",
       "      <td>OH</td>\n",
       "      <td>107</td>\n",
       "      <td>area_code_415</td>\n",
       "      <td>0</td>\n",
       "      <td>1</td>\n",
       "      <td>26</td>\n",
       "      <td>161.6</td>\n",
       "      <td>123</td>\n",
       "      <td>27.47</td>\n",
       "      <td>195.5</td>\n",
       "      <td>103</td>\n",
       "      <td>16.62</td>\n",
       "      <td>254.4</td>\n",
       "      <td>103</td>\n",
       "      <td>11.45</td>\n",
       "      <td>13.7</td>\n",
       "      <td>3</td>\n",
       "      <td>3.70</td>\n",
       "      <td>1</td>\n",
       "      <td>0</td>\n",
       "    </tr>\n",
       "    <tr>\n",
       "      <th>1</th>\n",
       "      <td>NJ</td>\n",
       "      <td>137</td>\n",
       "      <td>area_code_415</td>\n",
       "      <td>0</td>\n",
       "      <td>0</td>\n",
       "      <td>0</td>\n",
       "      <td>243.4</td>\n",
       "      <td>114</td>\n",
       "      <td>41.38</td>\n",
       "      <td>121.2</td>\n",
       "      <td>110</td>\n",
       "      <td>10.30</td>\n",
       "      <td>162.6</td>\n",
       "      <td>104</td>\n",
       "      <td>7.32</td>\n",
       "      <td>12.2</td>\n",
       "      <td>5</td>\n",
       "      <td>3.29</td>\n",
       "      <td>0</td>\n",
       "      <td>0</td>\n",
       "    </tr>\n",
       "    <tr>\n",
       "      <th>2</th>\n",
       "      <td>OH</td>\n",
       "      <td>84</td>\n",
       "      <td>area_code_408</td>\n",
       "      <td>1</td>\n",
       "      <td>0</td>\n",
       "      <td>0</td>\n",
       "      <td>299.4</td>\n",
       "      <td>71</td>\n",
       "      <td>50.90</td>\n",
       "      <td>61.9</td>\n",
       "      <td>88</td>\n",
       "      <td>5.26</td>\n",
       "      <td>196.9</td>\n",
       "      <td>89</td>\n",
       "      <td>8.86</td>\n",
       "      <td>6.6</td>\n",
       "      <td>7</td>\n",
       "      <td>1.78</td>\n",
       "      <td>2</td>\n",
       "      <td>0</td>\n",
       "    </tr>\n",
       "    <tr>\n",
       "      <th>3</th>\n",
       "      <td>OK</td>\n",
       "      <td>75</td>\n",
       "      <td>area_code_415</td>\n",
       "      <td>1</td>\n",
       "      <td>0</td>\n",
       "      <td>0</td>\n",
       "      <td>166.7</td>\n",
       "      <td>113</td>\n",
       "      <td>28.34</td>\n",
       "      <td>148.3</td>\n",
       "      <td>122</td>\n",
       "      <td>12.61</td>\n",
       "      <td>186.9</td>\n",
       "      <td>121</td>\n",
       "      <td>8.41</td>\n",
       "      <td>10.1</td>\n",
       "      <td>3</td>\n",
       "      <td>2.73</td>\n",
       "      <td>3</td>\n",
       "      <td>0</td>\n",
       "    </tr>\n",
       "    <tr>\n",
       "      <th>4</th>\n",
       "      <td>MA</td>\n",
       "      <td>121</td>\n",
       "      <td>area_code_510</td>\n",
       "      <td>0</td>\n",
       "      <td>1</td>\n",
       "      <td>24</td>\n",
       "      <td>218.2</td>\n",
       "      <td>88</td>\n",
       "      <td>37.09</td>\n",
       "      <td>348.5</td>\n",
       "      <td>108</td>\n",
       "      <td>29.62</td>\n",
       "      <td>212.6</td>\n",
       "      <td>118</td>\n",
       "      <td>9.57</td>\n",
       "      <td>7.5</td>\n",
       "      <td>7</td>\n",
       "      <td>2.03</td>\n",
       "      <td>3</td>\n",
       "      <td>0</td>\n",
       "    </tr>\n",
       "  </tbody>\n",
       "</table>\n",
       "</div>"
      ],
      "text/plain": [
       "  state  account_length      area_code  international_plan  voice_mail_plan  \\\n",
       "0    OH             107  area_code_415                   0                1   \n",
       "1    NJ             137  area_code_415                   0                0   \n",
       "2    OH              84  area_code_408                   1                0   \n",
       "3    OK              75  area_code_415                   1                0   \n",
       "4    MA             121  area_code_510                   0                1   \n",
       "\n",
       "   number_vmail_messages  total_day_minutes  total_day_calls  \\\n",
       "0                     26              161.6              123   \n",
       "1                      0              243.4              114   \n",
       "2                      0              299.4               71   \n",
       "3                      0              166.7              113   \n",
       "4                     24              218.2               88   \n",
       "\n",
       "   total_day_charge  total_eve_minutes  total_eve_calls  total_eve_charge  \\\n",
       "0             27.47              195.5              103             16.62   \n",
       "1             41.38              121.2              110             10.30   \n",
       "2             50.90               61.9               88              5.26   \n",
       "3             28.34              148.3              122             12.61   \n",
       "4             37.09              348.5              108             29.62   \n",
       "\n",
       "   total_night_minutes  total_night_calls  total_night_charge  \\\n",
       "0                254.4                103               11.45   \n",
       "1                162.6                104                7.32   \n",
       "2                196.9                 89                8.86   \n",
       "3                186.9                121                8.41   \n",
       "4                212.6                118                9.57   \n",
       "\n",
       "   total_intl_minutes  total_intl_calls  total_intl_charge  \\\n",
       "0                13.7                 3               3.70   \n",
       "1                12.2                 5               3.29   \n",
       "2                 6.6                 7               1.78   \n",
       "3                10.1                 3               2.73   \n",
       "4                 7.5                 7               2.03   \n",
       "\n",
       "   number_customer_service_calls  churn  \n",
       "0                              1      0  \n",
       "1                              0      0  \n",
       "2                              2      0  \n",
       "3                              3      0  \n",
       "4                              3      0  "
      ]
     },
     "execution_count": 14,
     "metadata": {},
     "output_type": "execute_result"
    }
   ],
   "source": [
    "df.head()"
   ]
  },
  {
   "cell_type": "markdown",
   "metadata": {},
   "source": [
    "###  Encoding Other features "
   ]
  },
  {
   "cell_type": "code",
   "execution_count": 15,
   "metadata": {},
   "outputs": [
    {
     "data": {
      "text/plain": [
       "array(['OH', 'NJ', 'OK', 'MA', 'MO', 'LA', 'WV', 'IN', 'RI', 'IA', 'MT',\n",
       "       'NY', 'ID', 'VA', 'TX', 'FL', 'CO', 'AZ', 'SC', 'WY', 'HI', 'NH',\n",
       "       'AK', 'GA', 'MD', 'AR', 'WI', 'OR', 'MI', 'DE', 'UT', 'CA', 'SD',\n",
       "       'NC', 'WA', 'MN', 'NM', 'NV', 'DC', 'VT', 'KY', 'ME', 'MS', 'AL',\n",
       "       'NE', 'KS', 'TN', 'IL', 'PA', 'CT', 'ND'], dtype=object)"
      ]
     },
     "execution_count": 15,
     "metadata": {},
     "output_type": "execute_result"
    }
   ],
   "source": [
    "df[\"state\"].unique()"
   ]
  },
  {
   "cell_type": "code",
   "execution_count": 16,
   "metadata": {},
   "outputs": [
    {
     "data": {
      "text/plain": [
       "51"
      ]
     },
     "execution_count": 16,
     "metadata": {},
     "output_type": "execute_result"
    }
   ],
   "source": [
    "len(df[\"state\"].unique())"
   ]
  },
  {
   "cell_type": "code",
   "execution_count": 17,
   "metadata": {},
   "outputs": [
    {
     "data": {
      "text/plain": [
       "array(['area_code_415', 'area_code_408', 'area_code_510'], dtype=object)"
      ]
     },
     "execution_count": 17,
     "metadata": {},
     "output_type": "execute_result"
    }
   ],
   "source": [
    "df[\"area_code\"].unique()"
   ]
  },
  {
   "cell_type": "code",
   "execution_count": 18,
   "metadata": {},
   "outputs": [],
   "source": [
    "ordinal_features = [\"state\",\"area_code\"]\n",
    "ce_ord = ce.TargetEncoder(cols = ordinal_features)\n",
    "df = ce_ord.fit_transform(df,df[\"churn\"])"
   ]
  },
  {
   "cell_type": "code",
   "execution_count": 19,
   "metadata": {},
   "outputs": [
    {
     "data": {
      "text/html": [
       "<div>\n",
       "<style scoped>\n",
       "    .dataframe tbody tr th:only-of-type {\n",
       "        vertical-align: middle;\n",
       "    }\n",
       "\n",
       "    .dataframe tbody tr th {\n",
       "        vertical-align: top;\n",
       "    }\n",
       "\n",
       "    .dataframe thead th {\n",
       "        text-align: right;\n",
       "    }\n",
       "</style>\n",
       "<table border=\"1\" class=\"dataframe\">\n",
       "  <thead>\n",
       "    <tr style=\"text-align: right;\">\n",
       "      <th></th>\n",
       "      <th>state</th>\n",
       "      <th>account_length</th>\n",
       "      <th>area_code</th>\n",
       "      <th>international_plan</th>\n",
       "      <th>voice_mail_plan</th>\n",
       "      <th>number_vmail_messages</th>\n",
       "      <th>total_day_minutes</th>\n",
       "      <th>total_day_calls</th>\n",
       "      <th>total_day_charge</th>\n",
       "      <th>total_eve_minutes</th>\n",
       "      <th>total_eve_calls</th>\n",
       "      <th>total_eve_charge</th>\n",
       "      <th>total_night_minutes</th>\n",
       "      <th>total_night_calls</th>\n",
       "      <th>total_night_charge</th>\n",
       "      <th>total_intl_minutes</th>\n",
       "      <th>total_intl_calls</th>\n",
       "      <th>total_intl_charge</th>\n",
       "      <th>number_customer_service_calls</th>\n",
       "      <th>churn</th>\n",
       "    </tr>\n",
       "  </thead>\n",
       "  <tbody>\n",
       "    <tr>\n",
       "      <th>0</th>\n",
       "      <td>0.126316</td>\n",
       "      <td>107</td>\n",
       "      <td>0.136148</td>\n",
       "      <td>0</td>\n",
       "      <td>1</td>\n",
       "      <td>26</td>\n",
       "      <td>161.6</td>\n",
       "      <td>123</td>\n",
       "      <td>27.47</td>\n",
       "      <td>195.5</td>\n",
       "      <td>103</td>\n",
       "      <td>16.62</td>\n",
       "      <td>254.4</td>\n",
       "      <td>103</td>\n",
       "      <td>11.45</td>\n",
       "      <td>13.7</td>\n",
       "      <td>3</td>\n",
       "      <td>3.70</td>\n",
       "      <td>1</td>\n",
       "      <td>0</td>\n",
       "    </tr>\n",
       "    <tr>\n",
       "      <th>1</th>\n",
       "      <td>0.270833</td>\n",
       "      <td>137</td>\n",
       "      <td>0.136148</td>\n",
       "      <td>0</td>\n",
       "      <td>0</td>\n",
       "      <td>0</td>\n",
       "      <td>243.4</td>\n",
       "      <td>114</td>\n",
       "      <td>41.38</td>\n",
       "      <td>121.2</td>\n",
       "      <td>110</td>\n",
       "      <td>10.30</td>\n",
       "      <td>162.6</td>\n",
       "      <td>104</td>\n",
       "      <td>7.32</td>\n",
       "      <td>12.2</td>\n",
       "      <td>5</td>\n",
       "      <td>3.29</td>\n",
       "      <td>0</td>\n",
       "      <td>0</td>\n",
       "    </tr>\n",
       "    <tr>\n",
       "      <th>2</th>\n",
       "      <td>0.126316</td>\n",
       "      <td>84</td>\n",
       "      <td>0.139963</td>\n",
       "      <td>1</td>\n",
       "      <td>0</td>\n",
       "      <td>0</td>\n",
       "      <td>299.4</td>\n",
       "      <td>71</td>\n",
       "      <td>50.90</td>\n",
       "      <td>61.9</td>\n",
       "      <td>88</td>\n",
       "      <td>5.26</td>\n",
       "      <td>196.9</td>\n",
       "      <td>89</td>\n",
       "      <td>8.86</td>\n",
       "      <td>6.6</td>\n",
       "      <td>7</td>\n",
       "      <td>1.78</td>\n",
       "      <td>2</td>\n",
       "      <td>0</td>\n",
       "    </tr>\n",
       "    <tr>\n",
       "      <th>3</th>\n",
       "      <td>0.205128</td>\n",
       "      <td>75</td>\n",
       "      <td>0.136148</td>\n",
       "      <td>1</td>\n",
       "      <td>0</td>\n",
       "      <td>0</td>\n",
       "      <td>166.7</td>\n",
       "      <td>113</td>\n",
       "      <td>28.34</td>\n",
       "      <td>148.3</td>\n",
       "      <td>122</td>\n",
       "      <td>12.61</td>\n",
       "      <td>186.9</td>\n",
       "      <td>121</td>\n",
       "      <td>8.41</td>\n",
       "      <td>10.1</td>\n",
       "      <td>3</td>\n",
       "      <td>2.73</td>\n",
       "      <td>3</td>\n",
       "      <td>0</td>\n",
       "    </tr>\n",
       "    <tr>\n",
       "      <th>4</th>\n",
       "      <td>0.157303</td>\n",
       "      <td>121</td>\n",
       "      <td>0.150568</td>\n",
       "      <td>0</td>\n",
       "      <td>1</td>\n",
       "      <td>24</td>\n",
       "      <td>218.2</td>\n",
       "      <td>88</td>\n",
       "      <td>37.09</td>\n",
       "      <td>348.5</td>\n",
       "      <td>108</td>\n",
       "      <td>29.62</td>\n",
       "      <td>212.6</td>\n",
       "      <td>118</td>\n",
       "      <td>9.57</td>\n",
       "      <td>7.5</td>\n",
       "      <td>7</td>\n",
       "      <td>2.03</td>\n",
       "      <td>3</td>\n",
       "      <td>0</td>\n",
       "    </tr>\n",
       "    <tr>\n",
       "      <th>5</th>\n",
       "      <td>0.125000</td>\n",
       "      <td>147</td>\n",
       "      <td>0.136148</td>\n",
       "      <td>1</td>\n",
       "      <td>0</td>\n",
       "      <td>0</td>\n",
       "      <td>157.0</td>\n",
       "      <td>79</td>\n",
       "      <td>26.69</td>\n",
       "      <td>103.1</td>\n",
       "      <td>94</td>\n",
       "      <td>8.76</td>\n",
       "      <td>211.8</td>\n",
       "      <td>96</td>\n",
       "      <td>9.53</td>\n",
       "      <td>7.1</td>\n",
       "      <td>6</td>\n",
       "      <td>1.92</td>\n",
       "      <td>0</td>\n",
       "      <td>0</td>\n",
       "    </tr>\n",
       "    <tr>\n",
       "      <th>6</th>\n",
       "      <td>0.101449</td>\n",
       "      <td>117</td>\n",
       "      <td>0.139963</td>\n",
       "      <td>0</td>\n",
       "      <td>0</td>\n",
       "      <td>0</td>\n",
       "      <td>184.5</td>\n",
       "      <td>97</td>\n",
       "      <td>31.37</td>\n",
       "      <td>351.6</td>\n",
       "      <td>80</td>\n",
       "      <td>29.89</td>\n",
       "      <td>215.8</td>\n",
       "      <td>90</td>\n",
       "      <td>9.71</td>\n",
       "      <td>8.7</td>\n",
       "      <td>4</td>\n",
       "      <td>2.35</td>\n",
       "      <td>1</td>\n",
       "      <td>0</td>\n",
       "    </tr>\n",
       "    <tr>\n",
       "      <th>7</th>\n",
       "      <td>0.136691</td>\n",
       "      <td>141</td>\n",
       "      <td>0.136148</td>\n",
       "      <td>1</td>\n",
       "      <td>1</td>\n",
       "      <td>37</td>\n",
       "      <td>258.6</td>\n",
       "      <td>84</td>\n",
       "      <td>43.96</td>\n",
       "      <td>222.0</td>\n",
       "      <td>111</td>\n",
       "      <td>18.87</td>\n",
       "      <td>326.4</td>\n",
       "      <td>97</td>\n",
       "      <td>14.69</td>\n",
       "      <td>11.2</td>\n",
       "      <td>5</td>\n",
       "      <td>3.02</td>\n",
       "      <td>0</td>\n",
       "      <td>0</td>\n",
       "    </tr>\n",
       "    <tr>\n",
       "      <th>8</th>\n",
       "      <td>0.156627</td>\n",
       "      <td>65</td>\n",
       "      <td>0.136148</td>\n",
       "      <td>0</td>\n",
       "      <td>0</td>\n",
       "      <td>0</td>\n",
       "      <td>129.1</td>\n",
       "      <td>137</td>\n",
       "      <td>21.95</td>\n",
       "      <td>228.5</td>\n",
       "      <td>83</td>\n",
       "      <td>19.42</td>\n",
       "      <td>208.8</td>\n",
       "      <td>111</td>\n",
       "      <td>9.40</td>\n",
       "      <td>12.7</td>\n",
       "      <td>6</td>\n",
       "      <td>3.43</td>\n",
       "      <td>4</td>\n",
       "      <td>1</td>\n",
       "    </tr>\n",
       "    <tr>\n",
       "      <th>9</th>\n",
       "      <td>0.068966</td>\n",
       "      <td>74</td>\n",
       "      <td>0.136148</td>\n",
       "      <td>0</td>\n",
       "      <td>0</td>\n",
       "      <td>0</td>\n",
       "      <td>187.7</td>\n",
       "      <td>127</td>\n",
       "      <td>31.91</td>\n",
       "      <td>163.4</td>\n",
       "      <td>148</td>\n",
       "      <td>13.89</td>\n",
       "      <td>196.0</td>\n",
       "      <td>94</td>\n",
       "      <td>8.82</td>\n",
       "      <td>9.1</td>\n",
       "      <td>5</td>\n",
       "      <td>2.46</td>\n",
       "      <td>0</td>\n",
       "      <td>0</td>\n",
       "    </tr>\n",
       "  </tbody>\n",
       "</table>\n",
       "</div>"
      ],
      "text/plain": [
       "      state  account_length  area_code  international_plan  voice_mail_plan  \\\n",
       "0  0.126316             107   0.136148                   0                1   \n",
       "1  0.270833             137   0.136148                   0                0   \n",
       "2  0.126316              84   0.139963                   1                0   \n",
       "3  0.205128              75   0.136148                   1                0   \n",
       "4  0.157303             121   0.150568                   0                1   \n",
       "5  0.125000             147   0.136148                   1                0   \n",
       "6  0.101449             117   0.139963                   0                0   \n",
       "7  0.136691             141   0.136148                   1                1   \n",
       "8  0.156627              65   0.136148                   0                0   \n",
       "9  0.068966              74   0.136148                   0                0   \n",
       "\n",
       "   number_vmail_messages  total_day_minutes  total_day_calls  \\\n",
       "0                     26              161.6              123   \n",
       "1                      0              243.4              114   \n",
       "2                      0              299.4               71   \n",
       "3                      0              166.7              113   \n",
       "4                     24              218.2               88   \n",
       "5                      0              157.0               79   \n",
       "6                      0              184.5               97   \n",
       "7                     37              258.6               84   \n",
       "8                      0              129.1              137   \n",
       "9                      0              187.7              127   \n",
       "\n",
       "   total_day_charge  total_eve_minutes  total_eve_calls  total_eve_charge  \\\n",
       "0             27.47              195.5              103             16.62   \n",
       "1             41.38              121.2              110             10.30   \n",
       "2             50.90               61.9               88              5.26   \n",
       "3             28.34              148.3              122             12.61   \n",
       "4             37.09              348.5              108             29.62   \n",
       "5             26.69              103.1               94              8.76   \n",
       "6             31.37              351.6               80             29.89   \n",
       "7             43.96              222.0              111             18.87   \n",
       "8             21.95              228.5               83             19.42   \n",
       "9             31.91              163.4              148             13.89   \n",
       "\n",
       "   total_night_minutes  total_night_calls  total_night_charge  \\\n",
       "0                254.4                103               11.45   \n",
       "1                162.6                104                7.32   \n",
       "2                196.9                 89                8.86   \n",
       "3                186.9                121                8.41   \n",
       "4                212.6                118                9.57   \n",
       "5                211.8                 96                9.53   \n",
       "6                215.8                 90                9.71   \n",
       "7                326.4                 97               14.69   \n",
       "8                208.8                111                9.40   \n",
       "9                196.0                 94                8.82   \n",
       "\n",
       "   total_intl_minutes  total_intl_calls  total_intl_charge  \\\n",
       "0                13.7                 3               3.70   \n",
       "1                12.2                 5               3.29   \n",
       "2                 6.6                 7               1.78   \n",
       "3                10.1                 3               2.73   \n",
       "4                 7.5                 7               2.03   \n",
       "5                 7.1                 6               1.92   \n",
       "6                 8.7                 4               2.35   \n",
       "7                11.2                 5               3.02   \n",
       "8                12.7                 6               3.43   \n",
       "9                 9.1                 5               2.46   \n",
       "\n",
       "   number_customer_service_calls  churn  \n",
       "0                              1      0  \n",
       "1                              0      0  \n",
       "2                              2      0  \n",
       "3                              3      0  \n",
       "4                              3      0  \n",
       "5                              0      0  \n",
       "6                              1      0  \n",
       "7                              0      0  \n",
       "8                              4      1  \n",
       "9                              0      0  "
      ]
     },
     "execution_count": 19,
     "metadata": {},
     "output_type": "execute_result"
    }
   ],
   "source": [
    "df.head(10)"
   ]
  },
  {
   "cell_type": "code",
   "execution_count": 20,
   "metadata": {},
   "outputs": [
    {
     "data": {
      "text/plain": [
       "array([0.12631579, 0.27083333, 0.20512821, 0.15730337, 0.125     ,\n",
       "       0.10144928, 0.13669065, 0.15662651, 0.06896552, 0.11290323,\n",
       "       0.2125    , 0.16666667, 0.11320755, 0.05      , 0.19387755,\n",
       "       0.11842105, 0.1125    , 0.09090909, 0.19444444, 0.10526316,\n",
       "       0.05194805, 0.12820513, 0.06557377, 0.109375  , 0.22093023,\n",
       "       0.15492958, 0.07446809, 0.15151515, 0.17241379, 0.1625    ,\n",
       "       0.12371134, 0.25641026, 0.14666667, 0.0875    , 0.225     ,\n",
       "       0.17592593, 0.20481928, 0.11111111, 0.11627907, 0.14117647,\n",
       "       0.17977528, 0.18292683, 0.12871287, 0.06849315, 0.15189873,\n",
       "       0.07594937, 0.11940299, 0.17045455, 0.08955224])"
      ]
     },
     "execution_count": 20,
     "metadata": {},
     "output_type": "execute_result"
    }
   ],
   "source": [
    "df[\"state\"].unique()"
   ]
  },
  {
   "cell_type": "code",
   "execution_count": 21,
   "metadata": {},
   "outputs": [
    {
     "data": {
      "text/plain": [
       "array([0.13614801, 0.13996317, 0.15056818])"
      ]
     },
     "execution_count": 21,
     "metadata": {},
     "output_type": "execute_result"
    }
   ],
   "source": [
    "df[\"area_code\"].unique()"
   ]
  },
  {
   "cell_type": "markdown",
   "metadata": {},
   "source": [
    "## Scaling the dataset"
   ]
  },
  {
   "cell_type": "code",
   "execution_count": 22,
   "metadata": {},
   "outputs": [],
   "source": [
    "scaled_df=df"
   ]
  },
  {
   "cell_type": "code",
   "execution_count": 23,
   "metadata": {},
   "outputs": [
    {
     "data": {
      "text/html": [
       "<div>\n",
       "<style scoped>\n",
       "    .dataframe tbody tr th:only-of-type {\n",
       "        vertical-align: middle;\n",
       "    }\n",
       "\n",
       "    .dataframe tbody tr th {\n",
       "        vertical-align: top;\n",
       "    }\n",
       "\n",
       "    .dataframe thead th {\n",
       "        text-align: right;\n",
       "    }\n",
       "</style>\n",
       "<table border=\"1\" class=\"dataframe\">\n",
       "  <thead>\n",
       "    <tr style=\"text-align: right;\">\n",
       "      <th></th>\n",
       "      <th>state</th>\n",
       "      <th>account_length</th>\n",
       "      <th>area_code</th>\n",
       "      <th>international_plan</th>\n",
       "      <th>voice_mail_plan</th>\n",
       "      <th>number_vmail_messages</th>\n",
       "      <th>total_day_minutes</th>\n",
       "      <th>total_day_calls</th>\n",
       "      <th>total_day_charge</th>\n",
       "      <th>total_eve_minutes</th>\n",
       "      <th>total_eve_calls</th>\n",
       "      <th>total_eve_charge</th>\n",
       "      <th>total_night_minutes</th>\n",
       "      <th>total_night_calls</th>\n",
       "      <th>total_night_charge</th>\n",
       "      <th>total_intl_minutes</th>\n",
       "      <th>total_intl_calls</th>\n",
       "      <th>total_intl_charge</th>\n",
       "      <th>number_customer_service_calls</th>\n",
       "      <th>churn</th>\n",
       "    </tr>\n",
       "  </thead>\n",
       "  <tbody>\n",
       "    <tr>\n",
       "      <th>0</th>\n",
       "      <td>0.126316</td>\n",
       "      <td>107</td>\n",
       "      <td>0.136148</td>\n",
       "      <td>0</td>\n",
       "      <td>1</td>\n",
       "      <td>26</td>\n",
       "      <td>161.6</td>\n",
       "      <td>123</td>\n",
       "      <td>27.47</td>\n",
       "      <td>195.5</td>\n",
       "      <td>103</td>\n",
       "      <td>16.62</td>\n",
       "      <td>254.4</td>\n",
       "      <td>103</td>\n",
       "      <td>11.45</td>\n",
       "      <td>13.7</td>\n",
       "      <td>3</td>\n",
       "      <td>3.70</td>\n",
       "      <td>1</td>\n",
       "      <td>0</td>\n",
       "    </tr>\n",
       "    <tr>\n",
       "      <th>1</th>\n",
       "      <td>0.270833</td>\n",
       "      <td>137</td>\n",
       "      <td>0.136148</td>\n",
       "      <td>0</td>\n",
       "      <td>0</td>\n",
       "      <td>0</td>\n",
       "      <td>243.4</td>\n",
       "      <td>114</td>\n",
       "      <td>41.38</td>\n",
       "      <td>121.2</td>\n",
       "      <td>110</td>\n",
       "      <td>10.30</td>\n",
       "      <td>162.6</td>\n",
       "      <td>104</td>\n",
       "      <td>7.32</td>\n",
       "      <td>12.2</td>\n",
       "      <td>5</td>\n",
       "      <td>3.29</td>\n",
       "      <td>0</td>\n",
       "      <td>0</td>\n",
       "    </tr>\n",
       "    <tr>\n",
       "      <th>2</th>\n",
       "      <td>0.126316</td>\n",
       "      <td>84</td>\n",
       "      <td>0.139963</td>\n",
       "      <td>1</td>\n",
       "      <td>0</td>\n",
       "      <td>0</td>\n",
       "      <td>299.4</td>\n",
       "      <td>71</td>\n",
       "      <td>50.90</td>\n",
       "      <td>61.9</td>\n",
       "      <td>88</td>\n",
       "      <td>5.26</td>\n",
       "      <td>196.9</td>\n",
       "      <td>89</td>\n",
       "      <td>8.86</td>\n",
       "      <td>6.6</td>\n",
       "      <td>7</td>\n",
       "      <td>1.78</td>\n",
       "      <td>2</td>\n",
       "      <td>0</td>\n",
       "    </tr>\n",
       "    <tr>\n",
       "      <th>3</th>\n",
       "      <td>0.205128</td>\n",
       "      <td>75</td>\n",
       "      <td>0.136148</td>\n",
       "      <td>1</td>\n",
       "      <td>0</td>\n",
       "      <td>0</td>\n",
       "      <td>166.7</td>\n",
       "      <td>113</td>\n",
       "      <td>28.34</td>\n",
       "      <td>148.3</td>\n",
       "      <td>122</td>\n",
       "      <td>12.61</td>\n",
       "      <td>186.9</td>\n",
       "      <td>121</td>\n",
       "      <td>8.41</td>\n",
       "      <td>10.1</td>\n",
       "      <td>3</td>\n",
       "      <td>2.73</td>\n",
       "      <td>3</td>\n",
       "      <td>0</td>\n",
       "    </tr>\n",
       "    <tr>\n",
       "      <th>4</th>\n",
       "      <td>0.157303</td>\n",
       "      <td>121</td>\n",
       "      <td>0.150568</td>\n",
       "      <td>0</td>\n",
       "      <td>1</td>\n",
       "      <td>24</td>\n",
       "      <td>218.2</td>\n",
       "      <td>88</td>\n",
       "      <td>37.09</td>\n",
       "      <td>348.5</td>\n",
       "      <td>108</td>\n",
       "      <td>29.62</td>\n",
       "      <td>212.6</td>\n",
       "      <td>118</td>\n",
       "      <td>9.57</td>\n",
       "      <td>7.5</td>\n",
       "      <td>7</td>\n",
       "      <td>2.03</td>\n",
       "      <td>3</td>\n",
       "      <td>0</td>\n",
       "    </tr>\n",
       "  </tbody>\n",
       "</table>\n",
       "</div>"
      ],
      "text/plain": [
       "      state  account_length  area_code  international_plan  voice_mail_plan  \\\n",
       "0  0.126316             107   0.136148                   0                1   \n",
       "1  0.270833             137   0.136148                   0                0   \n",
       "2  0.126316              84   0.139963                   1                0   \n",
       "3  0.205128              75   0.136148                   1                0   \n",
       "4  0.157303             121   0.150568                   0                1   \n",
       "\n",
       "   number_vmail_messages  total_day_minutes  total_day_calls  \\\n",
       "0                     26              161.6              123   \n",
       "1                      0              243.4              114   \n",
       "2                      0              299.4               71   \n",
       "3                      0              166.7              113   \n",
       "4                     24              218.2               88   \n",
       "\n",
       "   total_day_charge  total_eve_minutes  total_eve_calls  total_eve_charge  \\\n",
       "0             27.47              195.5              103             16.62   \n",
       "1             41.38              121.2              110             10.30   \n",
       "2             50.90               61.9               88              5.26   \n",
       "3             28.34              148.3              122             12.61   \n",
       "4             37.09              348.5              108             29.62   \n",
       "\n",
       "   total_night_minutes  total_night_calls  total_night_charge  \\\n",
       "0                254.4                103               11.45   \n",
       "1                162.6                104                7.32   \n",
       "2                196.9                 89                8.86   \n",
       "3                186.9                121                8.41   \n",
       "4                212.6                118                9.57   \n",
       "\n",
       "   total_intl_minutes  total_intl_calls  total_intl_charge  \\\n",
       "0                13.7                 3               3.70   \n",
       "1                12.2                 5               3.29   \n",
       "2                 6.6                 7               1.78   \n",
       "3                10.1                 3               2.73   \n",
       "4                 7.5                 7               2.03   \n",
       "\n",
       "   number_customer_service_calls  churn  \n",
       "0                              1      0  \n",
       "1                              0      0  \n",
       "2                              2      0  \n",
       "3                              3      0  \n",
       "4                              3      0  "
      ]
     },
     "execution_count": 23,
     "metadata": {},
     "output_type": "execute_result"
    }
   ],
   "source": [
    "scaled_df.head()"
   ]
  },
  {
   "cell_type": "code",
   "execution_count": 24,
   "metadata": {},
   "outputs": [],
   "source": [
    "standard_scaler = StandardScaler()\n",
    "scaled = standard_scaler.fit_transform(df[['account_length','number_vmail_messages', 'total_day_minutes',\"total_day_calls\",\"total_day_charge\",\"total_eve_minutes\",\"total_eve_charge\",\"total_night_minutes\",\"total_night_calls\",\"total_night_charge\",\"total_intl_minutes\",\"total_intl_calls\",\"total_intl_charge\",\"number_customer_service_calls\"]]) \n"
   ]
  },
  {
   "cell_type": "code",
   "execution_count": 25,
   "metadata": {},
   "outputs": [],
   "source": [
    "scaled_df['account_length'] = scaled[:,0]\n",
    "scaled_df['number_vmail_messages'] = scaled[:,1]\n",
    "scaled_df['total_day_minutes'] = scaled[:,2] \n",
    "scaled_df['total_day_calls'] = scaled[:,3]\n",
    "scaled_df['total_day_charge'] = scaled[:,4]\n",
    "scaled_df['total_eve_minutes'] = scaled[:,5]\n",
    "scaled_df['total_eve_charge'] = scaled[:,6]\n",
    "scaled_df['total_night_minutes'] = scaled[:,7]\n",
    "scaled_df['total_night_calls'] = scaled[:,8] \n",
    "scaled_df['total_night_charge'] = scaled[:,9]\n",
    "scaled_df['total_intl_minutes'] = scaled[:,10]\n",
    "scaled_df['total_intl_calls'] = scaled[:,11]\n",
    "scaled_df['total_intl_charge'] = scaled[:,12]\n",
    "scaled_df['number_customer_service_calls'] = scaled[:,13]"
   ]
  },
  {
   "cell_type": "code",
   "execution_count": 26,
   "metadata": {},
   "outputs": [
    {
     "data": {
      "text/html": [
       "<div>\n",
       "<style scoped>\n",
       "    .dataframe tbody tr th:only-of-type {\n",
       "        vertical-align: middle;\n",
       "    }\n",
       "\n",
       "    .dataframe tbody tr th {\n",
       "        vertical-align: top;\n",
       "    }\n",
       "\n",
       "    .dataframe thead th {\n",
       "        text-align: right;\n",
       "    }\n",
       "</style>\n",
       "<table border=\"1\" class=\"dataframe\">\n",
       "  <thead>\n",
       "    <tr style=\"text-align: right;\">\n",
       "      <th></th>\n",
       "      <th>state</th>\n",
       "      <th>account_length</th>\n",
       "      <th>area_code</th>\n",
       "      <th>international_plan</th>\n",
       "      <th>voice_mail_plan</th>\n",
       "      <th>number_vmail_messages</th>\n",
       "      <th>total_day_minutes</th>\n",
       "      <th>total_day_calls</th>\n",
       "      <th>total_day_charge</th>\n",
       "      <th>total_eve_minutes</th>\n",
       "      <th>total_eve_calls</th>\n",
       "      <th>total_eve_charge</th>\n",
       "      <th>total_night_minutes</th>\n",
       "      <th>total_night_calls</th>\n",
       "      <th>total_night_charge</th>\n",
       "      <th>total_intl_minutes</th>\n",
       "      <th>total_intl_calls</th>\n",
       "      <th>total_intl_charge</th>\n",
       "      <th>number_customer_service_calls</th>\n",
       "      <th>churn</th>\n",
       "    </tr>\n",
       "  </thead>\n",
       "  <tbody>\n",
       "    <tr>\n",
       "      <th>0</th>\n",
       "      <td>0.126316</td>\n",
       "      <td>0.170399</td>\n",
       "      <td>0.136148</td>\n",
       "      <td>0</td>\n",
       "      <td>1</td>\n",
       "      <td>1.366857</td>\n",
       "      <td>-0.345510</td>\n",
       "      <td>1.163449</td>\n",
       "      <td>-0.345788</td>\n",
       "      <td>-0.093025</td>\n",
       "      <td>103</td>\n",
       "      <td>-0.092493</td>\n",
       "      <td>1.070003</td>\n",
       "      <td>0.157309</td>\n",
       "      <td>1.070820</td>\n",
       "      <td>1.247901</td>\n",
       "      <td>-0.579164</td>\n",
       "      <td>1.248591</td>\n",
       "      <td>-0.426346</td>\n",
       "      <td>0</td>\n",
       "    </tr>\n",
       "    <tr>\n",
       "      <th>1</th>\n",
       "      <td>0.270833</td>\n",
       "      <td>0.926186</td>\n",
       "      <td>0.136148</td>\n",
       "      <td>0</td>\n",
       "      <td>0</td>\n",
       "      <td>-0.567911</td>\n",
       "      <td>1.169136</td>\n",
       "      <td>0.710014</td>\n",
       "      <td>1.169295</td>\n",
       "      <td>-1.571820</td>\n",
       "      <td>110</td>\n",
       "      <td>-1.572341</td>\n",
       "      <td>-0.753320</td>\n",
       "      <td>0.207083</td>\n",
       "      <td>-0.752053</td>\n",
       "      <td>0.704379</td>\n",
       "      <td>0.232927</td>\n",
       "      <td>0.698342</td>\n",
       "      <td>-1.188960</td>\n",
       "      <td>0</td>\n",
       "    </tr>\n",
       "    <tr>\n",
       "      <th>2</th>\n",
       "      <td>0.126316</td>\n",
       "      <td>-0.409038</td>\n",
       "      <td>0.139963</td>\n",
       "      <td>1</td>\n",
       "      <td>0</td>\n",
       "      <td>-0.567911</td>\n",
       "      <td>2.206058</td>\n",
       "      <td>-1.456398</td>\n",
       "      <td>2.206218</td>\n",
       "      <td>-2.752070</td>\n",
       "      <td>88</td>\n",
       "      <td>-2.752473</td>\n",
       "      <td>-0.072057</td>\n",
       "      <td>-0.539526</td>\n",
       "      <td>-0.072337</td>\n",
       "      <td>-1.324770</td>\n",
       "      <td>1.045017</td>\n",
       "      <td>-1.328187</td>\n",
       "      <td>0.336268</td>\n",
       "      <td>0</td>\n",
       "    </tr>\n",
       "    <tr>\n",
       "      <th>3</th>\n",
       "      <td>0.205128</td>\n",
       "      <td>-0.635774</td>\n",
       "      <td>0.136148</td>\n",
       "      <td>1</td>\n",
       "      <td>0</td>\n",
       "      <td>-0.567911</td>\n",
       "      <td>-0.251076</td>\n",
       "      <td>0.659633</td>\n",
       "      <td>-0.251027</td>\n",
       "      <td>-1.032448</td>\n",
       "      <td>122</td>\n",
       "      <td>-1.031447</td>\n",
       "      <td>-0.270676</td>\n",
       "      <td>1.053239</td>\n",
       "      <td>-0.270956</td>\n",
       "      <td>-0.056552</td>\n",
       "      <td>-0.579164</td>\n",
       "      <td>-0.053219</td>\n",
       "      <td>1.098882</td>\n",
       "      <td>0</td>\n",
       "    </tr>\n",
       "    <tr>\n",
       "      <th>4</th>\n",
       "      <td>0.157303</td>\n",
       "      <td>0.523099</td>\n",
       "      <td>0.150568</td>\n",
       "      <td>0</td>\n",
       "      <td>1</td>\n",
       "      <td>1.218029</td>\n",
       "      <td>0.702522</td>\n",
       "      <td>-0.599910</td>\n",
       "      <td>0.702027</td>\n",
       "      <td>2.952139</td>\n",
       "      <td>108</td>\n",
       "      <td>2.951497</td>\n",
       "      <td>0.239775</td>\n",
       "      <td>0.903917</td>\n",
       "      <td>0.241038</td>\n",
       "      <td>-0.998657</td>\n",
       "      <td>1.045017</td>\n",
       "      <td>-0.992669</td>\n",
       "      <td>1.098882</td>\n",
       "      <td>0</td>\n",
       "    </tr>\n",
       "  </tbody>\n",
       "</table>\n",
       "</div>"
      ],
      "text/plain": [
       "      state  account_length  area_code  international_plan  voice_mail_plan  \\\n",
       "0  0.126316        0.170399   0.136148                   0                1   \n",
       "1  0.270833        0.926186   0.136148                   0                0   \n",
       "2  0.126316       -0.409038   0.139963                   1                0   \n",
       "3  0.205128       -0.635774   0.136148                   1                0   \n",
       "4  0.157303        0.523099   0.150568                   0                1   \n",
       "\n",
       "   number_vmail_messages  total_day_minutes  total_day_calls  \\\n",
       "0               1.366857          -0.345510         1.163449   \n",
       "1              -0.567911           1.169136         0.710014   \n",
       "2              -0.567911           2.206058        -1.456398   \n",
       "3              -0.567911          -0.251076         0.659633   \n",
       "4               1.218029           0.702522        -0.599910   \n",
       "\n",
       "   total_day_charge  total_eve_minutes  total_eve_calls  total_eve_charge  \\\n",
       "0         -0.345788          -0.093025              103         -0.092493   \n",
       "1          1.169295          -1.571820              110         -1.572341   \n",
       "2          2.206218          -2.752070               88         -2.752473   \n",
       "3         -0.251027          -1.032448              122         -1.031447   \n",
       "4          0.702027           2.952139              108          2.951497   \n",
       "\n",
       "   total_night_minutes  total_night_calls  total_night_charge  \\\n",
       "0             1.070003           0.157309            1.070820   \n",
       "1            -0.753320           0.207083           -0.752053   \n",
       "2            -0.072057          -0.539526           -0.072337   \n",
       "3            -0.270676           1.053239           -0.270956   \n",
       "4             0.239775           0.903917            0.241038   \n",
       "\n",
       "   total_intl_minutes  total_intl_calls  total_intl_charge  \\\n",
       "0            1.247901         -0.579164           1.248591   \n",
       "1            0.704379          0.232927           0.698342   \n",
       "2           -1.324770          1.045017          -1.328187   \n",
       "3           -0.056552         -0.579164          -0.053219   \n",
       "4           -0.998657          1.045017          -0.992669   \n",
       "\n",
       "   number_customer_service_calls  churn  \n",
       "0                      -0.426346      0  \n",
       "1                      -1.188960      0  \n",
       "2                       0.336268      0  \n",
       "3                       1.098882      0  \n",
       "4                       1.098882      0  "
      ]
     },
     "execution_count": 26,
     "metadata": {},
     "output_type": "execute_result"
    }
   ],
   "source": [
    "scaled_df.head()"
   ]
  },
  {
   "cell_type": "markdown",
   "metadata": {},
   "source": [
    "# Splitting training dataset into test and train"
   ]
  },
  {
   "cell_type": "code",
   "execution_count": 27,
   "metadata": {},
   "outputs": [],
   "source": [
    "x = df.drop(\"churn\",axis=1)\n"
   ]
  },
  {
   "cell_type": "code",
   "execution_count": 28,
   "metadata": {},
   "outputs": [
    {
     "data": {
      "text/html": [
       "<div>\n",
       "<style scoped>\n",
       "    .dataframe tbody tr th:only-of-type {\n",
       "        vertical-align: middle;\n",
       "    }\n",
       "\n",
       "    .dataframe tbody tr th {\n",
       "        vertical-align: top;\n",
       "    }\n",
       "\n",
       "    .dataframe thead th {\n",
       "        text-align: right;\n",
       "    }\n",
       "</style>\n",
       "<table border=\"1\" class=\"dataframe\">\n",
       "  <thead>\n",
       "    <tr style=\"text-align: right;\">\n",
       "      <th></th>\n",
       "      <th>state</th>\n",
       "      <th>account_length</th>\n",
       "      <th>area_code</th>\n",
       "      <th>international_plan</th>\n",
       "      <th>voice_mail_plan</th>\n",
       "      <th>number_vmail_messages</th>\n",
       "      <th>total_day_minutes</th>\n",
       "      <th>total_day_calls</th>\n",
       "      <th>total_day_charge</th>\n",
       "      <th>total_eve_minutes</th>\n",
       "      <th>total_eve_calls</th>\n",
       "      <th>total_eve_charge</th>\n",
       "      <th>total_night_minutes</th>\n",
       "      <th>total_night_calls</th>\n",
       "      <th>total_night_charge</th>\n",
       "      <th>total_intl_minutes</th>\n",
       "      <th>total_intl_calls</th>\n",
       "      <th>total_intl_charge</th>\n",
       "      <th>number_customer_service_calls</th>\n",
       "    </tr>\n",
       "  </thead>\n",
       "  <tbody>\n",
       "    <tr>\n",
       "      <th>0</th>\n",
       "      <td>0.126316</td>\n",
       "      <td>0.170399</td>\n",
       "      <td>0.136148</td>\n",
       "      <td>0</td>\n",
       "      <td>1</td>\n",
       "      <td>1.366857</td>\n",
       "      <td>-0.345510</td>\n",
       "      <td>1.163449</td>\n",
       "      <td>-0.345788</td>\n",
       "      <td>-0.093025</td>\n",
       "      <td>103</td>\n",
       "      <td>-0.092493</td>\n",
       "      <td>1.070003</td>\n",
       "      <td>0.157309</td>\n",
       "      <td>1.070820</td>\n",
       "      <td>1.247901</td>\n",
       "      <td>-0.579164</td>\n",
       "      <td>1.248591</td>\n",
       "      <td>-0.426346</td>\n",
       "    </tr>\n",
       "    <tr>\n",
       "      <th>1</th>\n",
       "      <td>0.270833</td>\n",
       "      <td>0.926186</td>\n",
       "      <td>0.136148</td>\n",
       "      <td>0</td>\n",
       "      <td>0</td>\n",
       "      <td>-0.567911</td>\n",
       "      <td>1.169136</td>\n",
       "      <td>0.710014</td>\n",
       "      <td>1.169295</td>\n",
       "      <td>-1.571820</td>\n",
       "      <td>110</td>\n",
       "      <td>-1.572341</td>\n",
       "      <td>-0.753320</td>\n",
       "      <td>0.207083</td>\n",
       "      <td>-0.752053</td>\n",
       "      <td>0.704379</td>\n",
       "      <td>0.232927</td>\n",
       "      <td>0.698342</td>\n",
       "      <td>-1.188960</td>\n",
       "    </tr>\n",
       "    <tr>\n",
       "      <th>2</th>\n",
       "      <td>0.126316</td>\n",
       "      <td>-0.409038</td>\n",
       "      <td>0.139963</td>\n",
       "      <td>1</td>\n",
       "      <td>0</td>\n",
       "      <td>-0.567911</td>\n",
       "      <td>2.206058</td>\n",
       "      <td>-1.456398</td>\n",
       "      <td>2.206218</td>\n",
       "      <td>-2.752070</td>\n",
       "      <td>88</td>\n",
       "      <td>-2.752473</td>\n",
       "      <td>-0.072057</td>\n",
       "      <td>-0.539526</td>\n",
       "      <td>-0.072337</td>\n",
       "      <td>-1.324770</td>\n",
       "      <td>1.045017</td>\n",
       "      <td>-1.328187</td>\n",
       "      <td>0.336268</td>\n",
       "    </tr>\n",
       "    <tr>\n",
       "      <th>3</th>\n",
       "      <td>0.205128</td>\n",
       "      <td>-0.635774</td>\n",
       "      <td>0.136148</td>\n",
       "      <td>1</td>\n",
       "      <td>0</td>\n",
       "      <td>-0.567911</td>\n",
       "      <td>-0.251076</td>\n",
       "      <td>0.659633</td>\n",
       "      <td>-0.251027</td>\n",
       "      <td>-1.032448</td>\n",
       "      <td>122</td>\n",
       "      <td>-1.031447</td>\n",
       "      <td>-0.270676</td>\n",
       "      <td>1.053239</td>\n",
       "      <td>-0.270956</td>\n",
       "      <td>-0.056552</td>\n",
       "      <td>-0.579164</td>\n",
       "      <td>-0.053219</td>\n",
       "      <td>1.098882</td>\n",
       "    </tr>\n",
       "    <tr>\n",
       "      <th>4</th>\n",
       "      <td>0.157303</td>\n",
       "      <td>0.523099</td>\n",
       "      <td>0.150568</td>\n",
       "      <td>0</td>\n",
       "      <td>1</td>\n",
       "      <td>1.218029</td>\n",
       "      <td>0.702522</td>\n",
       "      <td>-0.599910</td>\n",
       "      <td>0.702027</td>\n",
       "      <td>2.952139</td>\n",
       "      <td>108</td>\n",
       "      <td>2.951497</td>\n",
       "      <td>0.239775</td>\n",
       "      <td>0.903917</td>\n",
       "      <td>0.241038</td>\n",
       "      <td>-0.998657</td>\n",
       "      <td>1.045017</td>\n",
       "      <td>-0.992669</td>\n",
       "      <td>1.098882</td>\n",
       "    </tr>\n",
       "  </tbody>\n",
       "</table>\n",
       "</div>"
      ],
      "text/plain": [
       "      state  account_length  area_code  international_plan  voice_mail_plan  \\\n",
       "0  0.126316        0.170399   0.136148                   0                1   \n",
       "1  0.270833        0.926186   0.136148                   0                0   \n",
       "2  0.126316       -0.409038   0.139963                   1                0   \n",
       "3  0.205128       -0.635774   0.136148                   1                0   \n",
       "4  0.157303        0.523099   0.150568                   0                1   \n",
       "\n",
       "   number_vmail_messages  total_day_minutes  total_day_calls  \\\n",
       "0               1.366857          -0.345510         1.163449   \n",
       "1              -0.567911           1.169136         0.710014   \n",
       "2              -0.567911           2.206058        -1.456398   \n",
       "3              -0.567911          -0.251076         0.659633   \n",
       "4               1.218029           0.702522        -0.599910   \n",
       "\n",
       "   total_day_charge  total_eve_minutes  total_eve_calls  total_eve_charge  \\\n",
       "0         -0.345788          -0.093025              103         -0.092493   \n",
       "1          1.169295          -1.571820              110         -1.572341   \n",
       "2          2.206218          -2.752070               88         -2.752473   \n",
       "3         -0.251027          -1.032448              122         -1.031447   \n",
       "4          0.702027           2.952139              108          2.951497   \n",
       "\n",
       "   total_night_minutes  total_night_calls  total_night_charge  \\\n",
       "0             1.070003           0.157309            1.070820   \n",
       "1            -0.753320           0.207083           -0.752053   \n",
       "2            -0.072057          -0.539526           -0.072337   \n",
       "3            -0.270676           1.053239           -0.270956   \n",
       "4             0.239775           0.903917            0.241038   \n",
       "\n",
       "   total_intl_minutes  total_intl_calls  total_intl_charge  \\\n",
       "0            1.247901         -0.579164           1.248591   \n",
       "1            0.704379          0.232927           0.698342   \n",
       "2           -1.324770          1.045017          -1.328187   \n",
       "3           -0.056552         -0.579164          -0.053219   \n",
       "4           -0.998657          1.045017          -0.992669   \n",
       "\n",
       "   number_customer_service_calls  \n",
       "0                      -0.426346  \n",
       "1                      -1.188960  \n",
       "2                       0.336268  \n",
       "3                       1.098882  \n",
       "4                       1.098882  "
      ]
     },
     "execution_count": 28,
     "metadata": {},
     "output_type": "execute_result"
    }
   ],
   "source": [
    "x.head()"
   ]
  },
  {
   "cell_type": "code",
   "execution_count": 29,
   "metadata": {},
   "outputs": [
    {
     "data": {
      "text/html": [
       "<div>\n",
       "<style scoped>\n",
       "    .dataframe tbody tr th:only-of-type {\n",
       "        vertical-align: middle;\n",
       "    }\n",
       "\n",
       "    .dataframe tbody tr th {\n",
       "        vertical-align: top;\n",
       "    }\n",
       "\n",
       "    .dataframe thead th {\n",
       "        text-align: right;\n",
       "    }\n",
       "</style>\n",
       "<table border=\"1\" class=\"dataframe\">\n",
       "  <thead>\n",
       "    <tr style=\"text-align: right;\">\n",
       "      <th></th>\n",
       "      <th>churn</th>\n",
       "    </tr>\n",
       "  </thead>\n",
       "  <tbody>\n",
       "    <tr>\n",
       "      <th>0</th>\n",
       "      <td>0</td>\n",
       "    </tr>\n",
       "    <tr>\n",
       "      <th>1</th>\n",
       "      <td>0</td>\n",
       "    </tr>\n",
       "    <tr>\n",
       "      <th>2</th>\n",
       "      <td>0</td>\n",
       "    </tr>\n",
       "    <tr>\n",
       "      <th>3</th>\n",
       "      <td>0</td>\n",
       "    </tr>\n",
       "    <tr>\n",
       "      <th>4</th>\n",
       "      <td>0</td>\n",
       "    </tr>\n",
       "  </tbody>\n",
       "</table>\n",
       "</div>"
      ],
      "text/plain": [
       "   churn\n",
       "0      0\n",
       "1      0\n",
       "2      0\n",
       "3      0\n",
       "4      0"
      ]
     },
     "execution_count": 29,
     "metadata": {},
     "output_type": "execute_result"
    }
   ],
   "source": [
    "y = df[[\"churn\"]]\n",
    "y.head()"
   ]
  },
  {
   "cell_type": "code",
   "execution_count": 56,
   "metadata": {},
   "outputs": [],
   "source": [
    "import numpy as np\n",
    "y=np.ravel(y,order='C')"
   ]
  },
  {
   "cell_type": "code",
   "execution_count": 57,
   "metadata": {},
   "outputs": [],
   "source": [
    "from sklearn.model_selection import train_test_split\n",
    "\n",
    "x_train,x_test,y_train,y_test=train_test_split(x,y,test_size=0.4,random_state=0)"
   ]
  },
  {
   "cell_type": "markdown",
   "metadata": {},
   "source": [
    "## Before Handling Class Imbalance"
   ]
  },
  {
   "cell_type": "code",
   "execution_count": 58,
   "metadata": {},
   "outputs": [],
   "source": [
    "# Decision tree\n",
    "\n",
    "from sklearn.tree import DecisionTreeClassifier\n",
    "dcls = DecisionTreeClassifier(max_depth= 3)\n",
    "dcls.fit(x_train,y_train)\n",
    "y_pred = dcls.predict(x_test)\n"
   ]
  },
  {
   "cell_type": "code",
   "execution_count": 85,
   "metadata": {},
   "outputs": [
    {
     "name": "stdout",
     "output_type": "stream",
     "text": [
      "{'fit_time': array([0.01196718, 0.01196766, 0.01196814, 0.01302934, 0.01196885]), 'score_time': array([0.00398993, 0.0039897 , 0.0059855 , 0.00496101, 0.00398874]), 'test_accuracy': array([0.90352941, 0.90352941, 0.90823529, 0.91176471, 0.91058824]), 'test_precision': array([0.78461538, 0.78461538, 0.86206897, 0.9245283 , 0.87931034]), 'test_recall': array([0.42857143, 0.42857143, 0.41666667, 0.40833333, 0.425     ]), 'test_f1_score': array([0.55434783, 0.55434783, 0.56179775, 0.56647399, 0.57303371])}\n",
      "Accuracy of model with cross validation score is :90.75294117647059\n",
      "Precision of model with precision score is :0.8470276762924778\n",
      "Precision of model with recall score is :0.4214285714285714\n",
      "Precision of model with f1 score is :0.5620002202574754\n"
     ]
    }
   ],
   "source": [
    "from sklearn.model_selection import cross_validate,StratifiedKFold\n",
    "\n",
    "from sklearn.metrics import make_scorer, accuracy_score, precision_score, recall_score, f1_score\n",
    "\n",
    "scoring = {'accuracy' : make_scorer(accuracy_score),\n",
    "           'precision' : make_scorer(precision_score),\n",
    "           'recall' : make_scorer(recall_score), \n",
    "           'f1_score' : make_scorer(f1_score)}\n",
    "\n",
    "\n",
    "stratifiedkf=StratifiedKFold(n_splits=5)\n",
    "score=cross_validate(dcls,x,y,cv=stratifiedkf,scoring=scoring)\n",
    "print(score)\n",
    "print(\"Accuracy of model with cross validation score is :{}\".format(score['test_accuracy'].mean()*100))\n",
    "print(\"Precision of model with precision score is :{}\".format(score[\"test_precision\"].mean()))\n",
    "print(\"Precision of model with recall score is :{}\".format(score[\"test_recall\"].mean()))\n",
    "print(\"Precision of model with f1 score is :{}\".format(score[\"test_f1_score\"].mean()))"
   ]
  },
  {
   "cell_type": "code",
   "execution_count": 60,
   "metadata": {},
   "outputs": [],
   "source": [
    "# Naive Bayes\n",
    "\n",
    "from sklearn.naive_bayes import GaussianNB\n",
    "nb = GaussianNB()\n",
    "nb.fit(x_train, y_train)\n",
    "y_pred  =  nb.predict(x_test)\n",
    "\n"
   ]
  },
  {
   "cell_type": "code",
   "execution_count": 86,
   "metadata": {},
   "outputs": [
    {
     "name": "stdout",
     "output_type": "stream",
     "text": [
      "{'fit_time': array([0.00398898, 0.00399303, 0.0039897 , 0.00299501, 0.0039897 ]), 'score_time': array([0.00402737, 0.00394893, 0.00398993, 0.00498199, 0.0039885 ]), 'test_accuracy': array([0.87176471, 0.87647059, 0.88352941, 0.87647059, 0.87764706]), 'test_precision': array([0.53787879, 0.56034483, 0.584     , 0.56410256, 0.57017544]), 'test_recall': array([0.59663866, 0.54621849, 0.60833333, 0.55      , 0.54166667]), 'test_f1_score': array([0.56573705, 0.55319149, 0.59591837, 0.55696203, 0.55555556])}\n",
      "Accuracy of model with cross validation score is :87.71764705882352\n",
      "Precision of model with precision score is :0.56330032363281\n",
      "Precision of model with recall score is :0.5685714285714286\n",
      "Precision of model with f1 score is :0.5654728978746961\n"
     ]
    }
   ],
   "source": [
    "from sklearn.model_selection import cross_validate,StratifiedKFold\n",
    "\n",
    "from sklearn.metrics import make_scorer, accuracy_score, precision_score, recall_score, f1_score\n",
    "\n",
    "scoring = {'accuracy' : make_scorer(accuracy_score),\n",
    "           'precision' : make_scorer(precision_score),\n",
    "           'recall' : make_scorer(recall_score), \n",
    "           'f1_score' : make_scorer(f1_score)}\n",
    "\n",
    "\n",
    "stratifiedkf=StratifiedKFold(n_splits=5)\n",
    "score=cross_validate(nb,x,y,cv=stratifiedkf,scoring=scoring)\n",
    "print(score)\n",
    "print(\"Accuracy of model with cross validation score is :{}\".format(score['test_accuracy'].mean()*100))\n",
    "print(\"Precision of model with precision score is :{}\".format(score[\"test_precision\"].mean()))\n",
    "print(\"Precision of model with recall score is :{}\".format(score[\"test_recall\"].mean()))\n",
    "print(\"Precision of model with f1 score is :{}\".format(score[\"test_f1_score\"].mean()))"
   ]
  },
  {
   "cell_type": "code",
   "execution_count": 87,
   "metadata": {},
   "outputs": [
    {
     "data": {
      "text/plain": [
       "array([0, 0, 0, ..., 0, 0, 0], dtype=int64)"
      ]
     },
     "execution_count": 87,
     "metadata": {},
     "output_type": "execute_result"
    }
   ],
   "source": [
    "# Logistic Regression\n",
    "\n",
    "from sklearn.linear_model import LogisticRegression\n",
    "lr = LogisticRegression(max_iter=1000)\n",
    "lr.fit(x_train,y_train)\n",
    "y_pred = lr.predict(x_test)\n",
    "y_pred"
   ]
  },
  {
   "cell_type": "code",
   "execution_count": 88,
   "metadata": {},
   "outputs": [
    {
     "name": "stdout",
     "output_type": "stream",
     "text": [
      "{'fit_time': array([0.14374948, 0.12496853, 0.15621257, 0.15621352, 0.15621352]), 'score_time': array([0., 0., 0., 0., 0.]), 'test_accuracy': array([0.87411765, 0.86117647, 0.87647059, 0.87058824, 0.86588235]), 'test_precision': array([0.62      , 0.51162791, 0.68292683, 0.60869565, 0.57894737]), 'test_recall': array([0.2605042 , 0.18487395, 0.23333333, 0.23333333, 0.18333333]), 'test_f1_score': array([0.36686391, 0.27160494, 0.34782609, 0.3373494 , 0.27848101])}\n",
      "Accuracy of model with cross validation score is :86.96470588235294\n",
      "Precision of model with precision score is :0.6004395513680005\n",
      "Precision of model with recall score is :0.21907563025210086\n",
      "Precision of model with f1 score is :0.3204250681604319\n"
     ]
    }
   ],
   "source": [
    "from sklearn.model_selection import cross_validate,StratifiedKFold\n",
    "\n",
    "from sklearn.metrics import make_scorer, accuracy_score, precision_score, recall_score, f1_score\n",
    "\n",
    "scoring = {'accuracy' : make_scorer(accuracy_score),\n",
    "           'precision' : make_scorer(precision_score),\n",
    "           'recall' : make_scorer(recall_score), \n",
    "           'f1_score' : make_scorer(f1_score)}\n",
    "\n",
    "\n",
    "stratifiedkf=StratifiedKFold(n_splits=5)\n",
    "score=cross_validate(lr,x,y,cv=stratifiedkf,scoring=scoring)\n",
    "print(score)\n",
    "print(\"Accuracy of model with cross validation score is :{}\".format(score['test_accuracy'].mean()*100))\n",
    "print(\"Precision of model with precision score is :{}\".format(score[\"test_precision\"].mean()))\n",
    "print(\"Precision of model with recall score is :{}\".format(score[\"test_recall\"].mean()))\n",
    "print(\"Precision of model with f1 score is :{}\".format(score[\"test_f1_score\"].mean()))"
   ]
  },
  {
   "cell_type": "code",
   "execution_count": 89,
   "metadata": {},
   "outputs": [],
   "source": [
    "# KNN\n",
    "\n",
    "from sklearn.neighbors import KNeighborsClassifier\n",
    "knn = KNeighborsClassifier(n_neighbors=3)\n",
    "knn.fit(x_train, y_train)\n",
    "y_pred = knn.predict(x_test)\n"
   ]
  },
  {
   "cell_type": "code",
   "execution_count": 90,
   "metadata": {},
   "outputs": [
    {
     "name": "stdout",
     "output_type": "stream",
     "text": [
      "{'fit_time': array([0.0030303 , 0.0039897 , 0.01562119, 0.01562166, 0.        ]), 'score_time': array([0.09769988, 0.05523348, 0.0624826 , 0.06252503, 0.07806706]), 'test_accuracy': array([0.86117647, 0.87411765, 0.87764706, 0.87176471, 0.86      ]), 'test_precision': array([0.51111111, 0.65      , 0.73529412, 0.7037037 , 0.51428571]), 'test_recall': array([0.19327731, 0.21848739, 0.20833333, 0.15833333, 0.15      ]), 'test_f1_score': array([0.2804878 , 0.32704403, 0.32467532, 0.2585034 , 0.23225806])}\n",
      "Accuracy of model with cross validation score is :86.89411764705882\n",
      "Precision of model with precision score is :0.6228789293495176\n",
      "Precision of model with recall score is :0.18568627450980393\n",
      "Precision of model with f1 score is :0.28459372411745587\n"
     ]
    }
   ],
   "source": [
    "from sklearn.model_selection import cross_validate,StratifiedKFold\n",
    "\n",
    "from sklearn.metrics import make_scorer, accuracy_score, precision_score, recall_score, f1_score\n",
    "\n",
    "scoring = {'accuracy' : make_scorer(accuracy_score),\n",
    "           'precision' : make_scorer(precision_score),\n",
    "           'recall' : make_scorer(recall_score), \n",
    "           'f1_score' : make_scorer(f1_score)}\n",
    "\n",
    "\n",
    "stratifiedkf=StratifiedKFold(n_splits=5)\n",
    "score=cross_validate(knn,x,y,cv=stratifiedkf,scoring=scoring)\n",
    "print(score)\n",
    "print(\"Accuracy of model with cross validation score is :{}\".format(score['test_accuracy'].mean()*100))\n",
    "print(\"Precision of model with precision score is :{}\".format(score[\"test_precision\"].mean()))\n",
    "print(\"Precision of model with recall score is :{}\".format(score[\"test_recall\"].mean()))\n",
    "print(\"Precision of model with f1 score is :{}\".format(score[\"test_f1_score\"].mean()))"
   ]
  },
  {
   "cell_type": "code",
   "execution_count": 91,
   "metadata": {},
   "outputs": [],
   "source": [
    "# SVM\n",
    "\n",
    "# support vector machine\n",
    "from sklearn.svm import SVC #importing the support vector machine model \n",
    "svm=SVC() #initializing the support vector machine  model\n",
    "svm.fit(x_train,y_train) # training the model\n",
    "y_pred=svm.predict(x_test) # predicting the glass types for test data"
   ]
  },
  {
   "cell_type": "code",
   "execution_count": 92,
   "metadata": {},
   "outputs": [
    {
     "name": "stderr",
     "output_type": "stream",
     "text": [
      "C:\\Users\\madap\\Anaconda3\\lib\\site-packages\\sklearn\\metrics\\_classification.py:1308: UndefinedMetricWarning: Precision is ill-defined and being set to 0.0 due to no predicted samples. Use `zero_division` parameter to control this behavior.\n",
      "  _warn_prf(average, modifier, msg_start, len(result))\n",
      "C:\\Users\\madap\\Anaconda3\\lib\\site-packages\\sklearn\\metrics\\_classification.py:1308: UndefinedMetricWarning: Precision is ill-defined and being set to 0.0 due to no predicted samples. Use `zero_division` parameter to control this behavior.\n",
      "  _warn_prf(average, modifier, msg_start, len(result))\n",
      "C:\\Users\\madap\\Anaconda3\\lib\\site-packages\\sklearn\\metrics\\_classification.py:1308: UndefinedMetricWarning: Precision is ill-defined and being set to 0.0 due to no predicted samples. Use `zero_division` parameter to control this behavior.\n",
      "  _warn_prf(average, modifier, msg_start, len(result))\n",
      "C:\\Users\\madap\\Anaconda3\\lib\\site-packages\\sklearn\\metrics\\_classification.py:1308: UndefinedMetricWarning: Precision is ill-defined and being set to 0.0 due to no predicted samples. Use `zero_division` parameter to control this behavior.\n",
      "  _warn_prf(average, modifier, msg_start, len(result))\n"
     ]
    },
    {
     "name": "stdout",
     "output_type": "stream",
     "text": [
      "{'fit_time': array([0.1991055 , 0.20308232, 0.18749833, 0.18431377, 0.20245886]), 'score_time': array([0.09372401, 0.09309912, 0.11183858, 0.10992694, 0.12436867]), 'test_accuracy': array([0.86      , 0.86      , 0.85882353, 0.85882353, 0.85882353]), 'test_precision': array([0., 0., 0., 0., 0.]), 'test_recall': array([0., 0., 0., 0., 0.]), 'test_f1_score': array([0., 0., 0., 0., 0.])}\n",
      "Accuracy of model with cross validation score is :85.92941176470588\n",
      "Precision of model with precision score is :0.0\n",
      "Precision of model with recall score is :0.0\n",
      "Precision of model with f1 score is :0.0\n"
     ]
    },
    {
     "name": "stderr",
     "output_type": "stream",
     "text": [
      "C:\\Users\\madap\\Anaconda3\\lib\\site-packages\\sklearn\\metrics\\_classification.py:1308: UndefinedMetricWarning: Precision is ill-defined and being set to 0.0 due to no predicted samples. Use `zero_division` parameter to control this behavior.\n",
      "  _warn_prf(average, modifier, msg_start, len(result))\n"
     ]
    }
   ],
   "source": [
    "from sklearn.model_selection import cross_validate,StratifiedKFold\n",
    "\n",
    "from sklearn.metrics import make_scorer, accuracy_score, precision_score, recall_score, f1_score\n",
    "\n",
    "scoring = {'accuracy' : make_scorer(accuracy_score),\n",
    "           'precision' : make_scorer(precision_score),\n",
    "           'recall' : make_scorer(recall_score), \n",
    "           'f1_score' : make_scorer(f1_score)}\n",
    "\n",
    "\n",
    "stratifiedkf=StratifiedKFold(n_splits=5)\n",
    "score=cross_validate(svm,x,y,cv=stratifiedkf,scoring=scoring)\n",
    "print(score)\n",
    "print(\"Accuracy of model with cross validation score is :{}\".format(score['test_accuracy'].mean()*100))\n",
    "print(\"Precision of model with precision score is :{}\".format(score[\"test_precision\"].mean()))\n",
    "print(\"Precision of model with recall score is :{}\".format(score[\"test_recall\"].mean()))\n",
    "print(\"Precision of model with f1 score is :{}\".format(score[\"test_f1_score\"].mean()))"
   ]
  },
  {
   "cell_type": "code",
   "execution_count": null,
   "metadata": {},
   "outputs": [],
   "source": []
  },
  {
   "cell_type": "code",
   "execution_count": 93,
   "metadata": {},
   "outputs": [],
   "source": [
    "# ADABOOSt\n",
    "\n",
    "from sklearn.ensemble import AdaBoostClassifier\n",
    "\n",
    "ada = AdaBoostClassifier(n_estimators=50,\n",
    "                         learning_rate=1)\n",
    "# Train Adaboost Classifer\n",
    "ada = ada.fit(x_train, y_train)\n",
    "\n",
    "#Predict the response for test dataset\n",
    "y_pred = ada.predict(x_test)"
   ]
  },
  {
   "cell_type": "code",
   "execution_count": 95,
   "metadata": {},
   "outputs": [
    {
     "name": "stdout",
     "output_type": "stream",
     "text": [
      "{'fit_time': array([0.23187947, 0.21869826, 0.2186563 , 0.21869588, 0.21461654]), 'score_time': array([0.        , 0.01562119, 0.01562142, 0.01562142, 0.01562214]), 'test_accuracy': array([0.88235294, 0.87882353, 0.90470588, 0.89176471, 0.88352941]), 'test_precision': array([0.63380282, 0.62121212, 0.76      , 0.69444444, 0.67213115]), 'test_recall': array([0.37815126, 0.34453782, 0.475     , 0.41666667, 0.34166667]), 'test_f1_score': array([0.47368421, 0.44324324, 0.58461538, 0.52083333, 0.45303867])}\n",
      "Accuracy of model with cross validation score is :88.82352941176471\n",
      "Precision of model with precision score is :0.6763181060197916\n",
      "Precision of model with recall score is :0.3912044817927171\n",
      "Precision of model with f1 score is :0.49508296915028527\n"
     ]
    }
   ],
   "source": [
    "from sklearn.model_selection import cross_validate,StratifiedKFold\n",
    "\n",
    "from sklearn.metrics import make_scorer, accuracy_score, precision_score, recall_score, f1_score\n",
    "\n",
    "scoring = {'accuracy' : make_scorer(accuracy_score),\n",
    "           'precision' : make_scorer(precision_score),\n",
    "           'recall' : make_scorer(recall_score), \n",
    "           'f1_score' : make_scorer(f1_score)}\n",
    "\n",
    "\n",
    "stratifiedkf=StratifiedKFold(n_splits=5)\n",
    "score=cross_validate(ada,x,y,cv=stratifiedkf,scoring=scoring)\n",
    "print(score)\n",
    "print(\"Accuracy of model with cross validation score is :{}\".format(score['test_accuracy'].mean()*100))\n",
    "print(\"Precision of model with precision score is :{}\".format(score[\"test_precision\"].mean()))\n",
    "print(\"Precision of model with recall score is :{}\".format(score[\"test_recall\"].mean()))\n",
    "print(\"Precision of model with f1 score is :{}\".format(score[\"test_f1_score\"].mean()))"
   ]
  },
  {
   "cell_type": "code",
   "execution_count": null,
   "metadata": {},
   "outputs": [],
   "source": []
  },
  {
   "cell_type": "code",
   "execution_count": null,
   "metadata": {},
   "outputs": [],
   "source": []
  },
  {
   "cell_type": "code",
   "execution_count": null,
   "metadata": {},
   "outputs": [],
   "source": []
  },
  {
   "cell_type": "code",
   "execution_count": null,
   "metadata": {},
   "outputs": [],
   "source": []
  },
  {
   "cell_type": "markdown",
   "metadata": {},
   "source": [
    "## Handling class imbalance problem"
   ]
  },
  {
   "cell_type": "code",
   "execution_count": 29,
   "metadata": {},
   "outputs": [
    {
     "data": {
      "image/png": "[encoded data removed]",
      "text/plain": [
       "<Figure size 720x432 with 1 Axes>"
      ]
     },
     "metadata": {
      "needs_background": "light"
     },
     "output_type": "display_data"
    }
   ],
   "source": [
    "ax = scaled_df['churn'].value_counts().plot(kind='bar', figsize=(10, 6), fontsize=13, color='#087E8B')\n",
    "ax.set_title('Customer churn prediction (0 = No, 1 = Yes)', size=20, pad=10)\n",
    "ax.set_ylabel('Number of people', fontsize=14)\n",
    "\n",
    "for i in ax.patches:\n",
    "    ax.text(i.get_x() + 0.19, i.get_height() + 50, str(round(i.get_height(), 2)), fontsize=15)"
   ]
  },
  {
   "cell_type": "markdown",
   "metadata": {},
   "source": [
    "we can see that most of the target atrribute values are No. So the model might get biased. So we need to handle it using class imbalance techniques"
   ]
  },
  {
   "cell_type": "markdown",
   "metadata": {},
   "source": [
    "### Random over sampling"
   ]
  },
  {
   "cell_type": "code",
   "execution_count": 30,
   "metadata": {},
   "outputs": [],
   "source": [
    "from imblearn.over_sampling import RandomOverSampler\n",
    "\n",
    "rus = RandomOverSampler(random_state=42, sampling_strategy='minority')# fit predictor and target variable\n",
    "X, Y = rus.fit_resample(x, y)\n"
   ]
  },
  {
   "cell_type": "code",
   "execution_count": 31,
   "metadata": {},
   "outputs": [
    {
     "data": {
      "text/plain": [
       "7304"
      ]
     },
     "execution_count": 31,
     "metadata": {},
     "output_type": "execute_result"
    }
   ],
   "source": [
    "len(X)"
   ]
  },
  {
   "cell_type": "markdown",
   "metadata": {},
   "source": [
    "## Dimensionality reduction"
   ]
  },
  {
   "cell_type": "code",
   "execution_count": 44,
   "metadata": {},
   "outputs": [
    {
     "data": {
      "text/plain": [
       "(7304, 13)"
      ]
     },
     "execution_count": 44,
     "metadata": {},
     "output_type": "execute_result"
    }
   ],
   "source": [
    "pca = PCA(n_components=13)\n",
    "x_pca=pd.DataFrame(pca.fit_transform(X))\n",
    "\n",
    "x_pca.shape"
   ]
  },
  {
   "cell_type": "code",
   "execution_count": 45,
   "metadata": {},
   "outputs": [
    {
     "data": {
      "text/plain": [
       "array([9.61882324e-01, 7.21718539e-03, 5.06652000e-03, 4.86315281e-03,\n",
       "       4.62387090e-03, 3.44833506e-03, 2.63549859e-03, 2.59865230e-03,\n",
       "       2.48232137e-03, 2.44468999e-03, 2.36394399e-03, 3.39264980e-04,\n",
       "       2.80179309e-05])"
      ]
     },
     "execution_count": 45,
     "metadata": {},
     "output_type": "execute_result"
    }
   ],
   "source": [
    "pca.explained_variance_ratio_"
   ]
  },
  {
   "cell_type": "code",
   "execution_count": 46,
   "metadata": {},
   "outputs": [
    {
     "data": {
      "text/html": [
       "<div>\n",
       "<style scoped>\n",
       "    .dataframe tbody tr th:only-of-type {\n",
       "        vertical-align: middle;\n",
       "    }\n",
       "\n",
       "    .dataframe tbody tr th {\n",
       "        vertical-align: top;\n",
       "    }\n",
       "\n",
       "    .dataframe thead th {\n",
       "        text-align: right;\n",
       "    }\n",
       "</style>\n",
       "<table border=\"1\" class=\"dataframe\">\n",
       "  <thead>\n",
       "    <tr style=\"text-align: right;\">\n",
       "      <th></th>\n",
       "      <th>0</th>\n",
       "      <th>1</th>\n",
       "      <th>2</th>\n",
       "      <th>3</th>\n",
       "      <th>4</th>\n",
       "      <th>5</th>\n",
       "      <th>6</th>\n",
       "      <th>7</th>\n",
       "      <th>8</th>\n",
       "      <th>9</th>\n",
       "      <th>10</th>\n",
       "      <th>11</th>\n",
       "      <th>12</th>\n",
       "    </tr>\n",
       "  </thead>\n",
       "  <tbody>\n",
       "    <tr>\n",
       "      <th>0</th>\n",
       "      <td>-2.951723</td>\n",
       "      <td>0.539528</td>\n",
       "      <td>-1.369031</td>\n",
       "      <td>1.045165</td>\n",
       "      <td>1.574674</td>\n",
       "      <td>-0.729036</td>\n",
       "      <td>1.258363</td>\n",
       "      <td>-0.556740</td>\n",
       "      <td>-1.111512</td>\n",
       "      <td>-0.532201</td>\n",
       "      <td>-0.825282</td>\n",
       "      <td>-0.228972</td>\n",
       "      <td>0.154791</td>\n",
       "    </tr>\n",
       "    <tr>\n",
       "      <th>1</th>\n",
       "      <td>-9.944415</td>\n",
       "      <td>-0.779050</td>\n",
       "      <td>-1.165799</td>\n",
       "      <td>1.697147</td>\n",
       "      <td>-2.311297</td>\n",
       "      <td>-1.161511</td>\n",
       "      <td>0.173122</td>\n",
       "      <td>-1.070203</td>\n",
       "      <td>0.432605</td>\n",
       "      <td>-0.312700</td>\n",
       "      <td>0.471110</td>\n",
       "      <td>-0.228214</td>\n",
       "      <td>-0.022734</td>\n",
       "    </tr>\n",
       "    <tr>\n",
       "      <th>2</th>\n",
       "      <td>12.046587</td>\n",
       "      <td>-1.287084</td>\n",
       "      <td>2.232765</td>\n",
       "      <td>3.374723</td>\n",
       "      <td>-3.224119</td>\n",
       "      <td>-0.114399</td>\n",
       "      <td>-0.364838</td>\n",
       "      <td>1.328877</td>\n",
       "      <td>0.782175</td>\n",
       "      <td>0.914733</td>\n",
       "      <td>0.373949</td>\n",
       "      <td>0.895379</td>\n",
       "      <td>0.005488</td>\n",
       "    </tr>\n",
       "    <tr>\n",
       "      <th>3</th>\n",
       "      <td>-21.951095</td>\n",
       "      <td>1.297984</td>\n",
       "      <td>0.122512</td>\n",
       "      <td>0.949262</td>\n",
       "      <td>-0.822461</td>\n",
       "      <td>0.607743</td>\n",
       "      <td>-0.474786</td>\n",
       "      <td>-0.473143</td>\n",
       "      <td>0.826234</td>\n",
       "      <td>-1.040220</td>\n",
       "      <td>-0.791090</td>\n",
       "      <td>0.859307</td>\n",
       "      <td>-0.006303</td>\n",
       "    </tr>\n",
       "    <tr>\n",
       "      <th>4</th>\n",
       "      <td>-7.960014</td>\n",
       "      <td>-1.655739</td>\n",
       "      <td>1.140078</td>\n",
       "      <td>-3.249443</td>\n",
       "      <td>1.565553</td>\n",
       "      <td>0.984270</td>\n",
       "      <td>1.341292</td>\n",
       "      <td>1.836524</td>\n",
       "      <td>-0.580848</td>\n",
       "      <td>-1.004107</td>\n",
       "      <td>0.633390</td>\n",
       "      <td>-0.115577</td>\n",
       "      <td>0.225223</td>\n",
       "    </tr>\n",
       "  </tbody>\n",
       "</table>\n",
       "</div>"
      ],
      "text/plain": [
       "          0         1         2         3         4         5         6   \\\n",
       "0  -2.951723  0.539528 -1.369031  1.045165  1.574674 -0.729036  1.258363   \n",
       "1  -9.944415 -0.779050 -1.165799  1.697147 -2.311297 -1.161511  0.173122   \n",
       "2  12.046587 -1.287084  2.232765  3.374723 -3.224119 -0.114399 -0.364838   \n",
       "3 -21.951095  1.297984  0.122512  0.949262 -0.822461  0.607743 -0.474786   \n",
       "4  -7.960014 -1.655739  1.140078 -3.249443  1.565553  0.984270  1.341292   \n",
       "\n",
       "         7         8         9         10        11        12  \n",
       "0 -0.556740 -1.111512 -0.532201 -0.825282 -0.228972  0.154791  \n",
       "1 -1.070203  0.432605 -0.312700  0.471110 -0.228214 -0.022734  \n",
       "2  1.328877  0.782175  0.914733  0.373949  0.895379  0.005488  \n",
       "3 -0.473143  0.826234 -1.040220 -0.791090  0.859307 -0.006303  \n",
       "4  1.836524 -0.580848 -1.004107  0.633390 -0.115577  0.225223  "
      ]
     },
     "execution_count": 46,
     "metadata": {},
     "output_type": "execute_result"
    }
   ],
   "source": [
    "x_pca.head()"
   ]
  },
  {
   "cell_type": "code",
   "execution_count": null,
   "metadata": {},
   "outputs": [],
   "source": []
  },
  {
   "cell_type": "markdown",
   "metadata": {},
   "source": [
    "## Splitting the dataset into test and train"
   ]
  },
  {
   "cell_type": "code",
   "execution_count": 66,
   "metadata": {},
   "outputs": [],
   "source": [
    "from sklearn.model_selection import train_test_split\n",
    "\n",
    "x_train,x_test,y_train,y_test=train_test_split(x_pca,Y,test_size=0.4,random_state=0)"
   ]
  },
  {
   "cell_type": "markdown",
   "metadata": {},
   "source": [
    "## Applying models \n",
    "\n",
    "- Decision tree\n",
    "- Naive bayes\n",
    "- Logistic regression\n",
    "- KNN\n",
    "- SVM"
   ]
  },
  {
   "cell_type": "markdown",
   "metadata": {},
   "source": [
    "### Decision tree"
   ]
  },
  {
   "cell_type": "code",
   "execution_count": 67,
   "metadata": {},
   "outputs": [],
   "source": [
    "from sklearn.tree import DecisionTreeClassifier\n",
    "dcls = DecisionTreeClassifier(max_depth= 3)"
   ]
  },
  {
   "cell_type": "code",
   "execution_count": 68,
   "metadata": {},
   "outputs": [
    {
     "data": {
      "text/plain": [
       "DecisionTreeClassifier(max_depth=3)"
      ]
     },
     "execution_count": 68,
     "metadata": {},
     "output_type": "execute_result"
    }
   ],
   "source": [
    "dcls.fit(x_train,y_train)"
   ]
  },
  {
   "cell_type": "code",
   "execution_count": 69,
   "metadata": {},
   "outputs": [],
   "source": [
    "y_pred = dcls.predict(x_test)"
   ]
  },
  {
   "cell_type": "code",
   "execution_count": 70,
   "metadata": {},
   "outputs": [
    {
     "data": {
      "text/plain": [
       "array([1, 1, 1, ..., 1, 0, 0], dtype=int64)"
      ]
     },
     "execution_count": 70,
     "metadata": {},
     "output_type": "execute_result"
    }
   ],
   "source": [
    "y_pred"
   ]
  },
  {
   "cell_type": "code",
   "execution_count": 71,
   "metadata": {},
   "outputs": [],
   "source": [
    "from sklearn.metrics import accuracy_score, confusion_matrix"
   ]
  },
  {
   "cell_type": "code",
   "execution_count": 72,
   "metadata": {},
   "outputs": [
    {
     "data": {
      "text/plain": [
       "84.87337440109513"
      ]
     },
     "execution_count": 72,
     "metadata": {},
     "output_type": "execute_result"
    }
   ],
   "source": [
    "accuracy_score(y_test,y_pred)* 100"
   ]
  },
  {
   "cell_type": "code",
   "execution_count": 73,
   "metadata": {},
   "outputs": [
    {
     "data": {
      "text/plain": [
       "(2922, 1)"
      ]
     },
     "execution_count": 73,
     "metadata": {},
     "output_type": "execute_result"
    }
   ],
   "source": [
    "y_test.shape"
   ]
  },
  {
   "cell_type": "code",
   "execution_count": 75,
   "metadata": {},
   "outputs": [
    {
     "data": {
      "image/png": "[encoded data removed]",
      "text/plain": [
       "<Figure size 432x288 with 1 Axes>"
      ]
     },
     "metadata": {
      "needs_background": "light"
     },
     "output_type": "display_data"
    }
   ],
   "source": [
    "import sklearn.metrics as metrics\n",
    "y_pred_proba1 = dcls.predict_proba(x_test)[::,1]\n",
    "fpr1, tpr1, _ = metrics.roc_curve(y_test,  y_pred_proba1)\n",
    "\n",
    "#create ROC curve\n",
    "plt.plot(fpr1,tpr1)\n",
    "plt.ylabel('True Positive Rate')\n",
    "plt.xlabel('False Positive Rate')\n",
    "plt.title(\"Decision Tree - ROS\")\n",
    "plt.show()"
   ]
  },
  {
   "cell_type": "code",
   "execution_count": 76,
   "metadata": {},
   "outputs": [
    {
     "name": "stdout",
     "output_type": "stream",
     "text": [
      "roc_auc_score for model is:  84.90263459335625\n"
     ]
    }
   ],
   "source": [
    "from sklearn.metrics import roc_auc_score\n",
    "\n",
    "auc = roc_auc_score(y_test,y_pred)\n",
    "print(\"roc_auc_score for model is: \",auc*100)"
   ]
  },
  {
   "cell_type": "code",
   "execution_count": 77,
   "metadata": {},
   "outputs": [
    {
     "data": {
      "text/plain": [
       "array([[1339,  116],\n",
       "       [ 326, 1141]], dtype=int64)"
      ]
     },
     "execution_count": 77,
     "metadata": {},
     "output_type": "execute_result"
    }
   ],
   "source": [
    "from sklearn.metrics import confusion_matrix\n",
    "\n",
    "cm1=confusion_matrix(y_test,y_pred)\n",
    "cm1"
   ]
  },
  {
   "cell_type": "code",
   "execution_count": 78,
   "metadata": {},
   "outputs": [
    {
     "name": "stdout",
     "output_type": "stream",
     "text": [
      "Precision: 0.908\n",
      "Recall: 0.778\n",
      "F1 Score: 0.838\n"
     ]
    }
   ],
   "source": [
    "from sklearn.metrics import precision_score, recall_score, f1_score, accuracy_score\n",
    "print('Precision: %.3f' % precision_score(y_test, y_pred))\n",
    "print('Recall: %.3f' % recall_score(y_test, y_pred))\n",
    "print('F1 Score: %.3f' % f1_score(y_test, y_pred))"
   ]
  },
  {
   "cell_type": "code",
   "execution_count": 152,
   "metadata": {},
   "outputs": [
    {
     "name": "stdout",
     "output_type": "stream",
     "text": [
      "Cross Validation Scores are [0.83572895 0.84394251 0.816564   0.83572895 0.83150685]\n",
      "Accuracy of model with cross validation score is :83.2694251450967\n"
     ]
    }
   ],
   "source": [
    "# K-fold cross validation\n",
    "\n",
    "from sklearn.model_selection import cross_val_score,StratifiedKFold\n",
    "\n",
    "stratifiedkf=StratifiedKFold(n_splits=5)\n",
    "score=cross_val_score(dcls,X,Y,cv=stratifiedkf)\n",
    "print(\"Cross Validation Scores are {}\".format(score))\n",
    "print(\"Accuracy of model with cross validation score is :{}\".format(score.mean()*100))"
   ]
  },
  {
   "cell_type": "code",
   "execution_count": 153,
   "metadata": {},
   "outputs": [
    {
     "name": "stdout",
     "output_type": "stream",
     "text": [
      "{'fit_time': array([0.03592896, 0.0219388 , 0.0199461 , 0.02192879, 0.0219481 ]), 'score_time': array([0.00798273, 0.00695586, 0.00498819, 0.00794625, 0.00698042]), 'test_precision': array([0.85818713, 0.85451977, 0.85128983, 0.86587183, 0.85276968]), 'test_recall': array([0.80410959, 0.82876712, 0.76744186, 0.79480164, 0.80136986]), 'test_f1_score': array([0.83026874, 0.84144645, 0.80719424, 0.82881598, 0.82627119])}\n",
      "Precision of model with precision score is :0.8565276507959776\n",
      "Precision of model with recall score is :0.7992980154788898\n",
      "Precision of model with f1 score is :0.8267993205575598\n"
     ]
    }
   ],
   "source": [
    "from sklearn.model_selection import cross_validate,StratifiedKFold\n",
    "\n",
    "from sklearn.metrics import make_scorer, accuracy_score, precision_score, recall_score, f1_score\n",
    "\n",
    "scoring = {'precision' : make_scorer(precision_score),\n",
    "           'recall' : make_scorer(recall_score), \n",
    "           'f1_score' : make_scorer(f1_score)}\n",
    "\n",
    "\n",
    "stratifiedkf=StratifiedKFold(n_splits=5)\n",
    "score=cross_validate(dcls,X,Y,cv=stratifiedkf,scoring=scoring)\n",
    "print(score)\n",
    "print(\"Precision of model with precision score is :{}\".format(score[\"test_precision\"].mean()))\n",
    "print(\"Precision of model with recall score is :{}\".format(score[\"test_recall\"].mean()))\n",
    "print(\"Precision of model with f1 score is :{}\".format(score[\"test_f1_score\"].mean()))"
   ]
  },
  {
   "cell_type": "markdown",
   "metadata": {},
   "source": [
    "### Naive Bayes"
   ]
  },
  {
   "cell_type": "code",
   "execution_count": 81,
   "metadata": {},
   "outputs": [
    {
     "name": "stderr",
     "output_type": "stream",
     "text": [
      "C:\\Users\\madap\\Anaconda3\\lib\\site-packages\\sklearn\\utils\\validation.py:985: DataConversionWarning: A column-vector y was passed when a 1d array was expected. Please change the shape of y to (n_samples, ), for example using ravel().\n",
      "  y = column_or_1d(y, warn=True)\n"
     ]
    },
    {
     "data": {
      "text/plain": [
       "GaussianNB()"
      ]
     },
     "execution_count": 81,
     "metadata": {},
     "output_type": "execute_result"
    }
   ],
   "source": [
    "from sklearn.naive_bayes import GaussianNB\n",
    "nb = GaussianNB()\n",
    "nb.fit(x_train, y_train)"
   ]
  },
  {
   "cell_type": "code",
   "execution_count": 82,
   "metadata": {},
   "outputs": [],
   "source": [
    "y_pred  =  nb.predict(x_test)"
   ]
  },
  {
   "cell_type": "code",
   "execution_count": 83,
   "metadata": {},
   "outputs": [
    {
     "data": {
      "text/plain": [
       "array([1, 1, 1, ..., 1, 0, 0], dtype=int64)"
      ]
     },
     "execution_count": 83,
     "metadata": {},
     "output_type": "execute_result"
    }
   ],
   "source": [
    " y_pred  "
   ]
  },
  {
   "cell_type": "code",
   "execution_count": 84,
   "metadata": {},
   "outputs": [],
   "source": [
    "from sklearn.metrics import confusion_matrix,accuracy_score\n",
    "cm = confusion_matrix(y_test, y_pred)\n",
    "ac = accuracy_score(y_test,y_pred)"
   ]
  },
  {
   "cell_type": "code",
   "execution_count": 85,
   "metadata": {},
   "outputs": [
    {
     "name": "stdout",
     "output_type": "stream",
     "text": [
      "Accuracy score:  81.45106091718002\n"
     ]
    }
   ],
   "source": [
    "print(\"Accuracy score: \",ac*100)"
   ]
  },
  {
   "cell_type": "code",
   "execution_count": 86,
   "metadata": {},
   "outputs": [
    {
     "data": {
      "image/png": "[encoded data removed]",
      "text/plain": [
       "<Figure size 432x288 with 1 Axes>"
      ]
     },
     "metadata": {
      "needs_background": "light"
     },
     "output_type": "display_data"
    }
   ],
   "source": [
    "y_pred_proba2 = nb.predict_proba(x_test)[::,1]\n",
    "fpr2, tpr2, _ = metrics.roc_curve(y_test,  y_pred_proba2)\n",
    "plt.title(\"Naive Bayes - ROS\")\n",
    "#create ROC curve\n",
    "plt.plot(fpr2,tpr2)\n",
    "plt.ylabel('True Positive Rate')\n",
    "plt.xlabel('False Positive Rate')\n",
    "plt.show()"
   ]
  },
  {
   "cell_type": "code",
   "execution_count": 160,
   "metadata": {},
   "outputs": [
    {
     "name": "stdout",
     "output_type": "stream",
     "text": [
      "roc_auc_score for model is:  81.44653159895714\n"
     ]
    }
   ],
   "source": [
    "from sklearn.metrics import roc_auc_score\n",
    "\n",
    "auc = roc_auc_score(y_test,y_pred)\n",
    "print(\"roc_auc_score for model is: \",auc*100)"
   ]
  },
  {
   "cell_type": "code",
   "execution_count": 161,
   "metadata": {},
   "outputs": [
    {
     "name": "stdout",
     "output_type": "stream",
     "text": [
      "[[1169  286]\n",
      " [ 256 1211]]\n",
      "Precision: 0.809\n",
      "Recall: 0.825\n",
      "F1 Score: 0.817\n"
     ]
    }
   ],
   "source": [
    "\n",
    "from sklearn.metrics import precision_score, recall_score, f1_score, accuracy_score\n",
    "from sklearn.metrics import confusion_matrix\n",
    "\n",
    "cm2=confusion_matrix(y_test,y_pred)\n",
    "print(cm2)\n",
    "\n",
    "print('Precision: %.3f' % precision_score(y_test, y_pred))\n",
    "print('Recall: %.3f' % recall_score(y_test, y_pred))\n",
    "print('F1 Score: %.3f' % f1_score(y_test, y_pred))"
   ]
  },
  {
   "cell_type": "code",
   "execution_count": 162,
   "metadata": {},
   "outputs": [
    {
     "name": "stdout",
     "output_type": "stream",
     "text": [
      "Cross Validation Scores are [0.81451061 0.82067077 0.7980835  0.82135524 0.81369863]\n",
      "Accuracy of model with cross validation score is :81.36637506680543\n"
     ]
    },
    {
     "name": "stderr",
     "output_type": "stream",
     "text": [
      "C:\\Users\\madap\\Anaconda3\\lib\\site-packages\\sklearn\\utils\\validation.py:985: DataConversionWarning: A column-vector y was passed when a 1d array was expected. Please change the shape of y to (n_samples, ), for example using ravel().\n",
      "  y = column_or_1d(y, warn=True)\n",
      "C:\\Users\\madap\\Anaconda3\\lib\\site-packages\\sklearn\\utils\\validation.py:985: DataConversionWarning: A column-vector y was passed when a 1d array was expected. Please change the shape of y to (n_samples, ), for example using ravel().\n",
      "  y = column_or_1d(y, warn=True)\n",
      "C:\\Users\\madap\\Anaconda3\\lib\\site-packages\\sklearn\\utils\\validation.py:985: DataConversionWarning: A column-vector y was passed when a 1d array was expected. Please change the shape of y to (n_samples, ), for example using ravel().\n",
      "  y = column_or_1d(y, warn=True)\n",
      "C:\\Users\\madap\\Anaconda3\\lib\\site-packages\\sklearn\\utils\\validation.py:985: DataConversionWarning: A column-vector y was passed when a 1d array was expected. Please change the shape of y to (n_samples, ), for example using ravel().\n",
      "  y = column_or_1d(y, warn=True)\n",
      "C:\\Users\\madap\\Anaconda3\\lib\\site-packages\\sklearn\\utils\\validation.py:985: DataConversionWarning: A column-vector y was passed when a 1d array was expected. Please change the shape of y to (n_samples, ), for example using ravel().\n",
      "  y = column_or_1d(y, warn=True)\n"
     ]
    }
   ],
   "source": [
    "# K-fold cross validation\n",
    "\n",
    "from sklearn.model_selection import cross_val_score,StratifiedKFold\n",
    "\n",
    "stratifiedkf=StratifiedKFold(n_splits=5)\n",
    "score=cross_val_score(nb,X,Y,cv=stratifiedkf)\n",
    "print(\"Cross Validation Scores are {}\".format(score))\n",
    "print(\"Accuracy of model with cross validation score is :{}\".format(score.mean()*100))"
   ]
  },
  {
   "cell_type": "code",
   "execution_count": 164,
   "metadata": {},
   "outputs": [
    {
     "name": "stdout",
     "output_type": "stream",
     "text": [
      "{'fit_time': array([0.00894713, 0.00897551, 0.00892544, 0.00895095, 0.00498843]), 'score_time': array([0.00896907, 0.01098466, 0.01099944, 0.00501204, 0.00598359]), 'test_precision': array([0.8105548 , 0.82773109, 0.80617978, 0.82821229, 0.81805556]), 'test_recall': array([0.82054795, 0.80958904, 0.78522572, 0.81121751, 0.80684932]), 'test_f1_score': array([0.81552076, 0.81855956, 0.7955648 , 0.81962681, 0.81241379])}\n",
      "Precision of model with precision score is :0.8181467035130252\n",
      "Precision of model with recall score is :0.806685905964807\n",
      "Precision of model with f1 score is :0.8123371443952998\n"
     ]
    },
    {
     "name": "stderr",
     "output_type": "stream",
     "text": [
      "C:\\Users\\madap\\Anaconda3\\lib\\site-packages\\sklearn\\utils\\validation.py:985: DataConversionWarning: A column-vector y was passed when a 1d array was expected. Please change the shape of y to (n_samples, ), for example using ravel().\n",
      "  y = column_or_1d(y, warn=True)\n",
      "C:\\Users\\madap\\Anaconda3\\lib\\site-packages\\sklearn\\utils\\validation.py:985: DataConversionWarning: A column-vector y was passed when a 1d array was expected. Please change the shape of y to (n_samples, ), for example using ravel().\n",
      "  y = column_or_1d(y, warn=True)\n",
      "C:\\Users\\madap\\Anaconda3\\lib\\site-packages\\sklearn\\utils\\validation.py:985: DataConversionWarning: A column-vector y was passed when a 1d array was expected. Please change the shape of y to (n_samples, ), for example using ravel().\n",
      "  y = column_or_1d(y, warn=True)\n",
      "C:\\Users\\madap\\Anaconda3\\lib\\site-packages\\sklearn\\utils\\validation.py:985: DataConversionWarning: A column-vector y was passed when a 1d array was expected. Please change the shape of y to (n_samples, ), for example using ravel().\n",
      "  y = column_or_1d(y, warn=True)\n",
      "C:\\Users\\madap\\Anaconda3\\lib\\site-packages\\sklearn\\utils\\validation.py:985: DataConversionWarning: A column-vector y was passed when a 1d array was expected. Please change the shape of y to (n_samples, ), for example using ravel().\n",
      "  y = column_or_1d(y, warn=True)\n"
     ]
    }
   ],
   "source": [
    "from sklearn.model_selection import cross_validate,StratifiedKFold\n",
    "\n",
    "from sklearn.metrics import make_scorer, accuracy_score, precision_score, recall_score, f1_score\n",
    "\n",
    "scoring = {'precision' : make_scorer(precision_score),\n",
    "           'recall' : make_scorer(recall_score), \n",
    "           'f1_score' : make_scorer(f1_score)}\n",
    "\n",
    "\n",
    "stratifiedkf=StratifiedKFold(n_splits=5)\n",
    "score=cross_validate(nb,X,Y,cv=stratifiedkf,scoring=scoring)\n",
    "print(score)\n",
    "print(\"Precision of model with precision score is :{}\".format(score[\"test_precision\"].mean()))\n",
    "print(\"Precision of model with recall score is :{}\".format(score[\"test_recall\"].mean()))\n",
    "print(\"Precision of model with f1 score is :{}\".format(score[\"test_f1_score\"].mean()))"
   ]
  },
  {
   "cell_type": "markdown",
   "metadata": {},
   "source": [
    "### Logistic Regression"
   ]
  },
  {
   "cell_type": "code",
   "execution_count": 165,
   "metadata": {},
   "outputs": [
    {
     "name": "stderr",
     "output_type": "stream",
     "text": [
      "C:\\Users\\madap\\Anaconda3\\lib\\site-packages\\sklearn\\utils\\validation.py:985: DataConversionWarning: A column-vector y was passed when a 1d array was expected. Please change the shape of y to (n_samples, ), for example using ravel().\n",
      "  y = column_or_1d(y, warn=True)\n"
     ]
    },
    {
     "data": {
      "text/plain": [
       "LogisticRegression()"
      ]
     },
     "execution_count": 165,
     "metadata": {},
     "output_type": "execute_result"
    }
   ],
   "source": [
    "### Applying the logistic regression:\n",
    "\n",
    "from sklearn.linear_model import LogisticRegression\n",
    "lr = LogisticRegression()\n",
    "lr.fit(x_train,y_train)"
   ]
  },
  {
   "cell_type": "code",
   "execution_count": 166,
   "metadata": {},
   "outputs": [
    {
     "data": {
      "text/plain": [
       "array([1, 0, 1, ..., 1, 0, 0], dtype=int64)"
      ]
     },
     "execution_count": 166,
     "metadata": {},
     "output_type": "execute_result"
    }
   ],
   "source": [
    "y_pred = lr.predict(x_test)\n",
    "y_pred"
   ]
  },
  {
   "cell_type": "code",
   "execution_count": 167,
   "metadata": {},
   "outputs": [],
   "source": [
    "### checking the accuracy of the model:\n",
    "\n",
    "from sklearn.metrics import accuracy_score,confusion_matrix\n",
    "from sklearn import metrics"
   ]
  },
  {
   "cell_type": "code",
   "execution_count": 168,
   "metadata": {},
   "outputs": [
    {
     "name": "stdout",
     "output_type": "stream",
     "text": [
      "Accuracy score:  77.1047227926078\n"
     ]
    }
   ],
   "source": [
    "print(\"Accuracy score: \",accuracy_score(y_test,y_pred)*100)"
   ]
  },
  {
   "cell_type": "code",
   "execution_count": 169,
   "metadata": {},
   "outputs": [
    {
     "name": "stdout",
     "output_type": "stream",
     "text": [
      "[[1105  350]\n",
      " [ 319 1148]]\n",
      "Precision: 0.766\n",
      "Recall: 0.783\n",
      "F1 Score: 0.774\n"
     ]
    }
   ],
   "source": [
    "\n",
    "from sklearn.metrics import precision_score, recall_score, f1_score, accuracy_score\n",
    "from sklearn.metrics import confusion_matrix\n",
    "\n",
    "cm3=confusion_matrix(y_test,y_pred)\n",
    "print(cm3)\n",
    "\n",
    "print('Precision: %.3f' % precision_score(y_test, y_pred))\n",
    "print('Recall: %.3f' % recall_score(y_test, y_pred))\n",
    "print('F1 Score: %.3f' % f1_score(y_test, y_pred))"
   ]
  },
  {
   "cell_type": "code",
   "execution_count": 170,
   "metadata": {},
   "outputs": [
    {
     "data": {
      "image/png": "[encoded data removed]",
      "text/plain": [
       "<Figure size 432x288 with 1 Axes>"
      ]
     },
     "metadata": {
      "needs_background": "light"
     },
     "output_type": "display_data"
    }
   ],
   "source": [
    "y_pred_proba3 = lr.predict_proba(x_test)[::,1]\n",
    "fpr3, tpr3, _ = metrics.roc_curve(y_test,  y_pred_proba3)\n",
    "\n",
    "#create ROC curve\n",
    "plt.plot(fpr3,tpr3)\n",
    "plt.ylabel('True Positive Rate')\n",
    "plt.xlabel('False Positive Rate')\n",
    "plt.title(\"LR - ROS\")\n",
    "plt.show()"
   ]
  },
  {
   "cell_type": "code",
   "execution_count": 171,
   "metadata": {},
   "outputs": [
    {
     "name": "stdout",
     "output_type": "stream",
     "text": [
      "roc_auc_score for model is:  77.09997962037681\n"
     ]
    }
   ],
   "source": [
    "from sklearn.metrics import roc_auc_score\n",
    "\n",
    "auc = roc_auc_score(y_test,y_pred)\n",
    "print(\"roc_auc_score for model is: \",auc*100)"
   ]
  },
  {
   "cell_type": "code",
   "execution_count": 172,
   "metadata": {
    "scrolled": true
   },
   "outputs": [
    {
     "name": "stderr",
     "output_type": "stream",
     "text": [
      "C:\\Users\\madap\\Anaconda3\\lib\\site-packages\\sklearn\\utils\\validation.py:985: DataConversionWarning: A column-vector y was passed when a 1d array was expected. Please change the shape of y to (n_samples, ), for example using ravel().\n",
      "  y = column_or_1d(y, warn=True)\n",
      "C:\\Users\\madap\\Anaconda3\\lib\\site-packages\\sklearn\\utils\\validation.py:985: DataConversionWarning: A column-vector y was passed when a 1d array was expected. Please change the shape of y to (n_samples, ), for example using ravel().\n",
      "  y = column_or_1d(y, warn=True)\n",
      "C:\\Users\\madap\\Anaconda3\\lib\\site-packages\\sklearn\\utils\\validation.py:985: DataConversionWarning: A column-vector y was passed when a 1d array was expected. Please change the shape of y to (n_samples, ), for example using ravel().\n",
      "  y = column_or_1d(y, warn=True)\n",
      "C:\\Users\\madap\\Anaconda3\\lib\\site-packages\\sklearn\\linear_model\\_logistic.py:818: ConvergenceWarning: lbfgs failed to converge (status=1):\n",
      "STOP: TOTAL NO. of ITERATIONS REACHED LIMIT.\n",
      "\n",
      "Increase the number of iterations (max_iter) or scale the data as shown in:\n",
      "    https://scikit-learn.org/stable/modules/preprocessing.html\n",
      "Please also refer to the documentation for alternative solver options:\n",
      "    https://scikit-learn.org/stable/modules/linear_model.html#logistic-regression\n",
      "  extra_warning_msg=_LOGISTIC_SOLVER_CONVERGENCE_MSG,\n",
      "C:\\Users\\madap\\Anaconda3\\lib\\site-packages\\sklearn\\utils\\validation.py:985: DataConversionWarning: A column-vector y was passed when a 1d array was expected. Please change the shape of y to (n_samples, ), for example using ravel().\n",
      "  y = column_or_1d(y, warn=True)\n"
     ]
    },
    {
     "name": "stdout",
     "output_type": "stream",
     "text": [
      "Cross Validation Scores are [0.79055441 0.79945243 0.76728268 0.78302533 0.77739726]\n",
      "Accuracy of model with cross validation score is :78.35424226228986\n"
     ]
    },
    {
     "name": "stderr",
     "output_type": "stream",
     "text": [
      "C:\\Users\\madap\\Anaconda3\\lib\\site-packages\\sklearn\\linear_model\\_logistic.py:818: ConvergenceWarning: lbfgs failed to converge (status=1):\n",
      "STOP: TOTAL NO. of ITERATIONS REACHED LIMIT.\n",
      "\n",
      "Increase the number of iterations (max_iter) or scale the data as shown in:\n",
      "    https://scikit-learn.org/stable/modules/preprocessing.html\n",
      "Please also refer to the documentation for alternative solver options:\n",
      "    https://scikit-learn.org/stable/modules/linear_model.html#logistic-regression\n",
      "  extra_warning_msg=_LOGISTIC_SOLVER_CONVERGENCE_MSG,\n",
      "C:\\Users\\madap\\Anaconda3\\lib\\site-packages\\sklearn\\utils\\validation.py:985: DataConversionWarning: A column-vector y was passed when a 1d array was expected. Please change the shape of y to (n_samples, ), for example using ravel().\n",
      "  y = column_or_1d(y, warn=True)\n",
      "C:\\Users\\madap\\Anaconda3\\lib\\site-packages\\sklearn\\linear_model\\_logistic.py:818: ConvergenceWarning: lbfgs failed to converge (status=1):\n",
      "STOP: TOTAL NO. of ITERATIONS REACHED LIMIT.\n",
      "\n",
      "Increase the number of iterations (max_iter) or scale the data as shown in:\n",
      "    https://scikit-learn.org/stable/modules/preprocessing.html\n",
      "Please also refer to the documentation for alternative solver options:\n",
      "    https://scikit-learn.org/stable/modules/linear_model.html#logistic-regression\n",
      "  extra_warning_msg=_LOGISTIC_SOLVER_CONVERGENCE_MSG,\n"
     ]
    }
   ],
   "source": [
    "# K-fold cross validation\n",
    "\n",
    "from sklearn.model_selection import cross_val_score,StratifiedKFold\n",
    "\n",
    "stratifiedkf=StratifiedKFold(n_splits=5)\n",
    "score=cross_val_score(lr,X,Y,cv=stratifiedkf)\n",
    "print(\"Cross Validation Scores are {}\".format(score))\n",
    "print(\"Accuracy of model with cross validation score is :{}\".format(score.mean()*100))"
   ]
  },
  {
   "cell_type": "code",
   "execution_count": null,
   "metadata": {},
   "outputs": [],
   "source": []
  },
  {
   "cell_type": "code",
   "execution_count": 174,
   "metadata": {},
   "outputs": [
    {
     "name": "stderr",
     "output_type": "stream",
     "text": [
      "C:\\Users\\madap\\Anaconda3\\lib\\site-packages\\sklearn\\utils\\validation.py:985: DataConversionWarning: A column-vector y was passed when a 1d array was expected. Please change the shape of y to (n_samples, ), for example using ravel().\n",
      "  y = column_or_1d(y, warn=True)\n",
      "C:\\Users\\madap\\Anaconda3\\lib\\site-packages\\sklearn\\utils\\validation.py:985: DataConversionWarning: A column-vector y was passed when a 1d array was expected. Please change the shape of y to (n_samples, ), for example using ravel().\n",
      "  y = column_or_1d(y, warn=True)\n",
      "C:\\Users\\madap\\Anaconda3\\lib\\site-packages\\sklearn\\utils\\validation.py:985: DataConversionWarning: A column-vector y was passed when a 1d array was expected. Please change the shape of y to (n_samples, ), for example using ravel().\n",
      "  y = column_or_1d(y, warn=True)\n",
      "C:\\Users\\madap\\Anaconda3\\lib\\site-packages\\sklearn\\linear_model\\_logistic.py:818: ConvergenceWarning: lbfgs failed to converge (status=1):\n",
      "STOP: TOTAL NO. of ITERATIONS REACHED LIMIT.\n",
      "\n",
      "Increase the number of iterations (max_iter) or scale the data as shown in:\n",
      "    https://scikit-learn.org/stable/modules/preprocessing.html\n",
      "Please also refer to the documentation for alternative solver options:\n",
      "    https://scikit-learn.org/stable/modules/linear_model.html#logistic-regression\n",
      "  extra_warning_msg=_LOGISTIC_SOLVER_CONVERGENCE_MSG,\n",
      "C:\\Users\\madap\\Anaconda3\\lib\\site-packages\\sklearn\\utils\\validation.py:985: DataConversionWarning: A column-vector y was passed when a 1d array was expected. Please change the shape of y to (n_samples, ), for example using ravel().\n",
      "  y = column_or_1d(y, warn=True)\n"
     ]
    },
    {
     "name": "stdout",
     "output_type": "stream",
     "text": [
      "{'fit_time': array([0.11967969, 0.078789  , 0.13264585, 0.13065052, 0.14361548]), 'score_time': array([0.01296639, 0.01196861, 0.01096916, 0.0139637 , 0.01097107]), 'test_precision': array([0.78418231, 0.8038943 , 0.76671214, 0.78910615, 0.77181208]), 'test_recall': array([0.80136986, 0.79178082, 0.76880985, 0.77291382, 0.78767123]), 'test_f1_score': array([0.79268293, 0.79779158, 0.76775956, 0.78092605, 0.77966102])}\n",
      "Precision of model with precision score is :0.7831413941873231\n",
      "Precision of model with recall score is :0.7845091168037778\n",
      "Precision of model with f1 score is :0.7837642281849714\n"
     ]
    },
    {
     "name": "stderr",
     "output_type": "stream",
     "text": [
      "C:\\Users\\madap\\Anaconda3\\lib\\site-packages\\sklearn\\linear_model\\_logistic.py:818: ConvergenceWarning: lbfgs failed to converge (status=1):\n",
      "STOP: TOTAL NO. of ITERATIONS REACHED LIMIT.\n",
      "\n",
      "Increase the number of iterations (max_iter) or scale the data as shown in:\n",
      "    https://scikit-learn.org/stable/modules/preprocessing.html\n",
      "Please also refer to the documentation for alternative solver options:\n",
      "    https://scikit-learn.org/stable/modules/linear_model.html#logistic-regression\n",
      "  extra_warning_msg=_LOGISTIC_SOLVER_CONVERGENCE_MSG,\n",
      "C:\\Users\\madap\\Anaconda3\\lib\\site-packages\\sklearn\\utils\\validation.py:985: DataConversionWarning: A column-vector y was passed when a 1d array was expected. Please change the shape of y to (n_samples, ), for example using ravel().\n",
      "  y = column_or_1d(y, warn=True)\n",
      "C:\\Users\\madap\\Anaconda3\\lib\\site-packages\\sklearn\\linear_model\\_logistic.py:818: ConvergenceWarning: lbfgs failed to converge (status=1):\n",
      "STOP: TOTAL NO. of ITERATIONS REACHED LIMIT.\n",
      "\n",
      "Increase the number of iterations (max_iter) or scale the data as shown in:\n",
      "    https://scikit-learn.org/stable/modules/preprocessing.html\n",
      "Please also refer to the documentation for alternative solver options:\n",
      "    https://scikit-learn.org/stable/modules/linear_model.html#logistic-regression\n",
      "  extra_warning_msg=_LOGISTIC_SOLVER_CONVERGENCE_MSG,\n"
     ]
    }
   ],
   "source": [
    "from sklearn.model_selection import cross_validate,StratifiedKFold\n",
    "\n",
    "from sklearn.metrics import make_scorer, accuracy_score, precision_score, recall_score, f1_score\n",
    "\n",
    "scoring = {'precision' : make_scorer(precision_score),\n",
    "           'recall' : make_scorer(recall_score), \n",
    "           'f1_score' : make_scorer(f1_score)}\n",
    "\n",
    "\n",
    "stratifiedkf=StratifiedKFold(n_splits=5)\n",
    "score=cross_validate(lr,X,Y,cv=stratifiedkf,scoring=scoring)\n",
    "print(score)\n",
    "print(\"Precision of model with precision score is :{}\".format(score[\"test_precision\"].mean()))\n",
    "print(\"Precision of model with recall score is :{}\".format(score[\"test_recall\"].mean()))\n",
    "print(\"Precision of model with f1 score is :{}\".format(score[\"test_f1_score\"].mean()))"
   ]
  },
  {
   "cell_type": "markdown",
   "metadata": {},
   "source": [
    "### K Nearest Neighbors"
   ]
  },
  {
   "cell_type": "code",
   "execution_count": 91,
   "metadata": {},
   "outputs": [
    {
     "name": "stderr",
     "output_type": "stream",
     "text": [
      "C:\\Users\\madap\\Anaconda3\\lib\\site-packages\\sklearn\\neighbors\\_classification.py:198: DataConversionWarning: A column-vector y was passed when a 1d array was expected. Please change the shape of y to (n_samples,), for example using ravel().\n",
      "  return self._fit(X, y)\n"
     ]
    },
    {
     "data": {
      "text/plain": [
       "KNeighborsClassifier(n_neighbors=3)"
      ]
     },
     "execution_count": 91,
     "metadata": {},
     "output_type": "execute_result"
    }
   ],
   "source": [
    "from sklearn.neighbors import KNeighborsClassifier\n",
    "knn = KNeighborsClassifier(n_neighbors=3)\n",
    "knn.fit(x_train, y_train)"
   ]
  },
  {
   "cell_type": "code",
   "execution_count": 92,
   "metadata": {},
   "outputs": [],
   "source": [
    "y_pred = knn.predict(x_test)"
   ]
  },
  {
   "cell_type": "code",
   "execution_count": 93,
   "metadata": {},
   "outputs": [
    {
     "data": {
      "text/plain": [
       "88.09034907597535"
      ]
     },
     "execution_count": 93,
     "metadata": {},
     "output_type": "execute_result"
    }
   ],
   "source": [
    "from sklearn.metrics import accuracy_score\n",
    "\n",
    "accuracy_score(y_test,y_pred)*100"
   ]
  },
  {
   "cell_type": "code",
   "execution_count": 94,
   "metadata": {},
   "outputs": [
    {
     "name": "stdout",
     "output_type": "stream",
     "text": [
      "[[1169  286]\n",
      " [  62 1405]]\n",
      "Precision: 0.831\n",
      "Recall: 0.958\n",
      "F1 Score: 0.890\n"
     ]
    }
   ],
   "source": [
    "\n",
    "from sklearn.metrics import precision_score, recall_score, f1_score, accuracy_score\n",
    "from sklearn.metrics import confusion_matrix\n",
    "\n",
    "cm4=confusion_matrix(y_test,y_pred)\n",
    "print(cm4)\n",
    "\n",
    "print('Precision: %.3f' % precision_score(y_test, y_pred))\n",
    "print('Recall: %.3f' % recall_score(y_test, y_pred))\n",
    "print('F1 Score: %.3f' % f1_score(y_test, y_pred))"
   ]
  },
  {
   "cell_type": "code",
   "execution_count": 96,
   "metadata": {},
   "outputs": [
    {
     "data": {
      "image/png": "[encoded data removed]",
      "text/plain": [
       "<Figure size 432x288 with 1 Axes>"
      ]
     },
     "metadata": {
      "needs_background": "light"
     },
     "output_type": "display_data"
    }
   ],
   "source": [
    "y_pred_proba4 = knn.predict_proba(x_test)[::,1]\n",
    "fpr4, tpr4, _ = metrics.roc_curve(y_test,  y_pred_proba4)\n",
    "\n",
    "#create ROC curve\n",
    "plt.plot(fpr4,tpr4)\n",
    "plt.ylabel('True Positive Rate')\n",
    "plt.xlabel('False Positive Rate')\n",
    "plt.title(\"KNN - ROS\")\n",
    "plt.show()"
   ]
  },
  {
   "cell_type": "code",
   "execution_count": 99,
   "metadata": {},
   "outputs": [
    {
     "name": "stderr",
     "output_type": "stream",
     "text": [
      "C:\\Users\\madap\\Anaconda3\\lib\\site-packages\\sklearn\\neighbors\\_classification.py:198: DataConversionWarning: A column-vector y was passed when a 1d array was expected. Please change the shape of y to (n_samples,), for example using ravel().\n",
      "  return self._fit(X, y)\n",
      "C:\\Users\\madap\\Anaconda3\\lib\\site-packages\\sklearn\\neighbors\\_classification.py:198: DataConversionWarning: A column-vector y was passed when a 1d array was expected. Please change the shape of y to (n_samples,), for example using ravel().\n",
      "  return self._fit(X, y)\n",
      "C:\\Users\\madap\\Anaconda3\\lib\\site-packages\\sklearn\\neighbors\\_classification.py:198: DataConversionWarning: A column-vector y was passed when a 1d array was expected. Please change the shape of y to (n_samples,), for example using ravel().\n",
      "  return self._fit(X, y)\n",
      "C:\\Users\\madap\\Anaconda3\\lib\\site-packages\\sklearn\\neighbors\\_classification.py:198: DataConversionWarning: A column-vector y was passed when a 1d array was expected. Please change the shape of y to (n_samples,), for example using ravel().\n",
      "  return self._fit(X, y)\n",
      "C:\\Users\\madap\\Anaconda3\\lib\\site-packages\\sklearn\\neighbors\\_classification.py:198: DataConversionWarning: A column-vector y was passed when a 1d array was expected. Please change the shape of y to (n_samples,), for example using ravel().\n",
      "  return self._fit(X, y)\n"
     ]
    },
    {
     "data": {
      "image/png": "[encoded data removed]",
      "text/plain": [
       "<Figure size 432x288 with 1 Axes>"
      ]
     },
     "metadata": {
      "needs_background": "light"
     },
     "output_type": "display_data"
    }
   ],
   "source": [
    "import matplotlib.pyplot as plt\n",
    "import numpy as np\n",
    "from sklearn import svm\n",
    "from sklearn.metrics import auc\n",
    "from sklearn.metrics import RocCurveDisplay\n",
    "from sklearn.model_selection import StratifiedKFold\n",
    "\n",
    "# Run classifier with cross-validation and plot ROC curves\n",
    "cv = StratifiedKFold(n_splits=5)\n",
    "\n",
    "\n",
    "tprs = []\n",
    "aucs = []\n",
    "mean_fpr = np.linspace(0, 1, 100)\n",
    "\n",
    "fig, ax = plt.subplots()\n",
    "for i, (train, test) in enumerate(cv.split(X, Y)):\n",
    "    knn.fit(x_train,y_train)\n",
    "    viz = RocCurveDisplay.from_estimator(\n",
    "        knn,\n",
    "        x_test,\n",
    "        y_test,\n",
    "        name=\"ROC fold {}\".format(i),\n",
    "        alpha=0.3,\n",
    "        lw=1,\n",
    "        ax=ax,\n",
    "    )\n",
    "    interp_tpr = np.interp(mean_fpr, viz.fpr, viz.tpr)\n",
    "    interp_tpr[0] = 0.0\n",
    "    tprs.append(interp_tpr)\n",
    "    aucs.append(viz.roc_auc)\n",
    "\n",
    "ax.plot([0, 1], [0, 1], linestyle=\"--\", lw=2, color=\"r\", label=\"Chance\", alpha=0.8)\n",
    "\n",
    "mean_tpr = np.mean(tprs, axis=0)\n",
    "mean_tpr[-1] = 1.0\n",
    "mean_auc = auc(mean_fpr, mean_tpr)\n",
    "std_auc = np.std(aucs)\n",
    "ax.plot(\n",
    "    mean_fpr,\n",
    "    mean_tpr,\n",
    "    color=\"b\",\n",
    "    label=r\"Mean ROC (AUC = %0.2f $\\pm$ %0.2f)\" % (mean_auc, std_auc),\n",
    "    lw=2,\n",
    "    alpha=0.8,\n",
    ")\n",
    "\n",
    "std_tpr = np.std(tprs, axis=0)\n",
    "tprs_upper = np.minimum(mean_tpr + std_tpr, 1)\n",
    "tprs_lower = np.maximum(mean_tpr - std_tpr, 0)\n",
    "ax.fill_between(\n",
    "    mean_fpr,\n",
    "    tprs_lower,\n",
    "    tprs_upper,\n",
    "    color=\"grey\",\n",
    "    alpha=0.2,\n",
    "    label=r\"$\\pm$ 1 std. dev.\",\n",
    ")\n",
    "\n",
    "ax.set(\n",
    "    xlim=[-0.05, 1.05],\n",
    "    ylim=[-0.05, 1.05],\n",
    "    title=\"Receiver operating characteristic example\",\n",
    ")\n",
    "ax.legend(loc=\"lower right\")\n",
    "plt.show()"
   ]
  },
  {
   "cell_type": "code",
   "execution_count": 180,
   "metadata": {},
   "outputs": [
    {
     "name": "stdout",
     "output_type": "stream",
     "text": [
      "roc_auc_score for model is:  88.05866520495577\n"
     ]
    }
   ],
   "source": [
    "from sklearn.metrics import roc_auc_score\n",
    "\n",
    "auc = roc_auc_score(y_test,y_pred)\n",
    "print(\"roc_auc_score for model is: \",auc*100)"
   ]
  },
  {
   "cell_type": "code",
   "execution_count": 181,
   "metadata": {},
   "outputs": [
    {
     "name": "stderr",
     "output_type": "stream",
     "text": [
      "C:\\Users\\madap\\Anaconda3\\lib\\site-packages\\sklearn\\neighbors\\_classification.py:198: DataConversionWarning: A column-vector y was passed when a 1d array was expected. Please change the shape of y to (n_samples,), for example using ravel().\n",
      "  return self._fit(X, y)\n",
      "C:\\Users\\madap\\Anaconda3\\lib\\site-packages\\sklearn\\neighbors\\_classification.py:198: DataConversionWarning: A column-vector y was passed when a 1d array was expected. Please change the shape of y to (n_samples,), for example using ravel().\n",
      "  return self._fit(X, y)\n",
      "C:\\Users\\madap\\Anaconda3\\lib\\site-packages\\sklearn\\neighbors\\_classification.py:198: DataConversionWarning: A column-vector y was passed when a 1d array was expected. Please change the shape of y to (n_samples,), for example using ravel().\n",
      "  return self._fit(X, y)\n",
      "C:\\Users\\madap\\Anaconda3\\lib\\site-packages\\sklearn\\neighbors\\_classification.py:198: DataConversionWarning: A column-vector y was passed when a 1d array was expected. Please change the shape of y to (n_samples,), for example using ravel().\n",
      "  return self._fit(X, y)\n",
      "C:\\Users\\madap\\Anaconda3\\lib\\site-packages\\sklearn\\neighbors\\_classification.py:198: DataConversionWarning: A column-vector y was passed when a 1d array was expected. Please change the shape of y to (n_samples,), for example using ravel().\n",
      "  return self._fit(X, y)\n"
     ]
    },
    {
     "name": "stdout",
     "output_type": "stream",
     "text": [
      "Cross Validation Scores are [0.91581109 0.91101985 0.91786448 0.90622861 0.91506849]\n",
      "Accuracy of model with cross validation score is :91.31985035582684\n"
     ]
    }
   ],
   "source": [
    "# K-fold cross validation\n",
    "\n",
    "from sklearn.model_selection import cross_val_score,StratifiedKFold\n",
    "\n",
    "stratifiedkf=StratifiedKFold(n_splits=5)\n",
    "score=cross_val_score(knn,X,Y,cv=stratifiedkf)\n",
    "print(\"Cross Validation Scores are {}\".format(score))\n",
    "print(\"Accuracy of model with cross validation score is :{}\".format(score.mean()*100))"
   ]
  },
  {
   "cell_type": "code",
   "execution_count": 182,
   "metadata": {},
   "outputs": [
    {
     "name": "stderr",
     "output_type": "stream",
     "text": [
      "C:\\Users\\madap\\Anaconda3\\lib\\site-packages\\sklearn\\neighbors\\_classification.py:198: DataConversionWarning: A column-vector y was passed when a 1d array was expected. Please change the shape of y to (n_samples,), for example using ravel().\n",
      "  return self._fit(X, y)\n",
      "C:\\Users\\madap\\Anaconda3\\lib\\site-packages\\sklearn\\neighbors\\_classification.py:198: DataConversionWarning: A column-vector y was passed when a 1d array was expected. Please change the shape of y to (n_samples,), for example using ravel().\n",
      "  return self._fit(X, y)\n",
      "C:\\Users\\madap\\Anaconda3\\lib\\site-packages\\sklearn\\neighbors\\_classification.py:198: DataConversionWarning: A column-vector y was passed when a 1d array was expected. Please change the shape of y to (n_samples,), for example using ravel().\n",
      "  return self._fit(X, y)\n",
      "C:\\Users\\madap\\Anaconda3\\lib\\site-packages\\sklearn\\neighbors\\_classification.py:198: DataConversionWarning: A column-vector y was passed when a 1d array was expected. Please change the shape of y to (n_samples,), for example using ravel().\n",
      "  return self._fit(X, y)\n",
      "C:\\Users\\madap\\Anaconda3\\lib\\site-packages\\sklearn\\neighbors\\_classification.py:198: DataConversionWarning: A column-vector y was passed when a 1d array was expected. Please change the shape of y to (n_samples,), for example using ravel().\n",
      "  return self._fit(X, y)\n"
     ]
    },
    {
     "name": "stdout",
     "output_type": "stream",
     "text": [
      "{'fit_time': array([0.01495743, 0.00798059, 0.00598621, 0.00796986, 0.00898433]), 'score_time': array([0.30219078, 0.28128362, 0.27721858, 0.39793611, 0.29723287]), 'test_precision': array([0.87057387, 0.85971223, 0.86586826, 0.84615385, 0.86244019]), 'test_recall': array([0.97671233, 0.98219178, 0.98905609, 0.99316005, 0.98767123]), 'test_f1_score': array([0.92059393, 0.9168798 , 0.92337165, 0.91378225, 0.92081737])}\n",
      "Precision of model with precision score is :0.8609496803608316\n",
      "Precision of model with recall score is :0.9857582969473231\n",
      "Precision of model with f1 score is :0.919088999311457\n"
     ]
    }
   ],
   "source": [
    "from sklearn.model_selection import cross_validate,StratifiedKFold\n",
    "\n",
    "from sklearn.metrics import make_scorer, accuracy_score, precision_score, recall_score, f1_score\n",
    "\n",
    "scoring = {'precision' : make_scorer(precision_score),\n",
    "           'recall' : make_scorer(recall_score), \n",
    "           'f1_score' : make_scorer(f1_score)}\n",
    "\n",
    "\n",
    "stratifiedkf=StratifiedKFold(n_splits=5)\n",
    "score=cross_validate(knn,X,Y,cv=stratifiedkf,scoring=scoring)\n",
    "print(score)\n",
    "print(\"Precision of model with precision score is :{}\".format(score[\"test_precision\"].mean()))\n",
    "print(\"Precision of model with recall score is :{}\".format(score[\"test_recall\"].mean()))\n",
    "print(\"Precision of model with f1 score is :{}\".format(score[\"test_f1_score\"].mean()))"
   ]
  },
  {
   "cell_type": "markdown",
   "metadata": {},
   "source": [
    "### Support Vector Machine"
   ]
  },
  {
   "cell_type": "code",
   "execution_count": 183,
   "metadata": {},
   "outputs": [
    {
     "name": "stderr",
     "output_type": "stream",
     "text": [
      "C:\\Users\\madap\\Anaconda3\\lib\\site-packages\\sklearn\\utils\\validation.py:985: DataConversionWarning: A column-vector y was passed when a 1d array was expected. Please change the shape of y to (n_samples, ), for example using ravel().\n",
      "  y = column_or_1d(y, warn=True)\n"
     ]
    }
   ],
   "source": [
    "# support vector machine\n",
    "from sklearn.svm import SVC #importing the support vector machine model \n",
    "svm=SVC() #initializing the support vector machine  model\n",
    "svm.fit(x_train,y_train) # training the model\n",
    "predictions=svm.predict(x_test) # predicting the glass types for test data"
   ]
  },
  {
   "cell_type": "code",
   "execution_count": 184,
   "metadata": {},
   "outputs": [
    {
     "data": {
      "text/plain": [
       "76.18069815195072"
      ]
     },
     "execution_count": 184,
     "metadata": {},
     "output_type": "execute_result"
    }
   ],
   "source": [
    "from sklearn.metrics import accuracy_score\n",
    "\n",
    "accuracy_score(y_test,predictions)*100"
   ]
  },
  {
   "cell_type": "code",
   "execution_count": 185,
   "metadata": {},
   "outputs": [
    {
     "name": "stdout",
     "output_type": "stream",
     "text": [
      "[[1071  384]\n",
      " [ 312 1155]]\n",
      "Precision: 0.750\n",
      "Recall: 0.787\n",
      "F1 Score: 0.768\n"
     ]
    }
   ],
   "source": [
    "\n",
    "from sklearn.metrics import precision_score, recall_score, f1_score, accuracy_score\n",
    "from sklearn.metrics import confusion_matrix\n",
    "\n",
    "cm5=confusion_matrix(y_test,predictions)\n",
    "print(cm5)\n",
    "\n",
    "print('Precision: %.3f' % precision_score(y_test, predictions))\n",
    "print('Recall: %.3f' % recall_score(y_test, predictions))\n",
    "print('F1 Score: %.3f' % f1_score(y_test, predictions))"
   ]
  },
  {
   "cell_type": "code",
   "execution_count": 186,
   "metadata": {},
   "outputs": [
    {
     "name": "stderr",
     "output_type": "stream",
     "text": [
      "C:\\Users\\madap\\Anaconda3\\lib\\site-packages\\sklearn\\utils\\validation.py:985: DataConversionWarning: A column-vector y was passed when a 1d array was expected. Please change the shape of y to (n_samples, ), for example using ravel().\n",
      "  y = column_or_1d(y, warn=True)\n",
      "C:\\Users\\madap\\Anaconda3\\lib\\site-packages\\sklearn\\utils\\validation.py:985: DataConversionWarning: A column-vector y was passed when a 1d array was expected. Please change the shape of y to (n_samples, ), for example using ravel().\n",
      "  y = column_or_1d(y, warn=True)\n",
      "C:\\Users\\madap\\Anaconda3\\lib\\site-packages\\sklearn\\utils\\validation.py:985: DataConversionWarning: A column-vector y was passed when a 1d array was expected. Please change the shape of y to (n_samples, ), for example using ravel().\n",
      "  y = column_or_1d(y, warn=True)\n",
      "C:\\Users\\madap\\Anaconda3\\lib\\site-packages\\sklearn\\utils\\validation.py:985: DataConversionWarning: A column-vector y was passed when a 1d array was expected. Please change the shape of y to (n_samples, ), for example using ravel().\n",
      "  y = column_or_1d(y, warn=True)\n",
      "C:\\Users\\madap\\Anaconda3\\lib\\site-packages\\sklearn\\utils\\validation.py:985: DataConversionWarning: A column-vector y was passed when a 1d array was expected. Please change the shape of y to (n_samples, ), for example using ravel().\n",
      "  y = column_or_1d(y, warn=True)\n"
     ]
    },
    {
     "name": "stdout",
     "output_type": "stream",
     "text": [
      "Cross Validation Scores are [0.69815195 0.71594798 0.69952088 0.7063655  0.70616438]\n",
      "Accuracy of model with cross validation score is :70.52301388615417\n"
     ]
    }
   ],
   "source": [
    "# K-fold cross validation\n",
    "\n",
    "from sklearn.model_selection import cross_val_score,StratifiedKFold\n",
    "\n",
    "stratifiedkf=StratifiedKFold(n_splits=5)\n",
    "score=cross_val_score(svm,X,Y,cv=stratifiedkf)\n",
    "print(\"Cross Validation Scores are {}\".format(score))\n",
    "print(\"Accuracy of model with cross validation score is :{}\".format(score.mean()*100))"
   ]
  },
  {
   "cell_type": "code",
   "execution_count": 188,
   "metadata": {},
   "outputs": [
    {
     "name": "stderr",
     "output_type": "stream",
     "text": [
      "C:\\Users\\madap\\Anaconda3\\lib\\site-packages\\sklearn\\utils\\validation.py:985: DataConversionWarning: A column-vector y was passed when a 1d array was expected. Please change the shape of y to (n_samples, ), for example using ravel().\n",
      "  y = column_or_1d(y, warn=True)\n",
      "C:\\Users\\madap\\Anaconda3\\lib\\site-packages\\sklearn\\utils\\validation.py:985: DataConversionWarning: A column-vector y was passed when a 1d array was expected. Please change the shape of y to (n_samples, ), for example using ravel().\n",
      "  y = column_or_1d(y, warn=True)\n",
      "C:\\Users\\madap\\Anaconda3\\lib\\site-packages\\sklearn\\utils\\validation.py:985: DataConversionWarning: A column-vector y was passed when a 1d array was expected. Please change the shape of y to (n_samples, ), for example using ravel().\n",
      "  y = column_or_1d(y, warn=True)\n",
      "C:\\Users\\madap\\Anaconda3\\lib\\site-packages\\sklearn\\utils\\validation.py:985: DataConversionWarning: A column-vector y was passed when a 1d array was expected. Please change the shape of y to (n_samples, ), for example using ravel().\n",
      "  y = column_or_1d(y, warn=True)\n",
      "C:\\Users\\madap\\Anaconda3\\lib\\site-packages\\sklearn\\utils\\validation.py:985: DataConversionWarning: A column-vector y was passed when a 1d array was expected. Please change the shape of y to (n_samples, ), for example using ravel().\n",
      "  y = column_or_1d(y, warn=True)\n"
     ]
    },
    {
     "name": "stdout",
     "output_type": "stream",
     "text": [
      "{'fit_time': array([4.48904181, 4.3543992 , 4.51791668, 4.97273111, 4.9876194 ]), 'score_time': array([2.12726307, 1.98967767, 2.16819334, 2.21209002, 2.38765168]), 'test_precision': array([0.70153417, 0.73060029, 0.70977011, 0.71030641, 0.7025572 ]), 'test_recall': array([0.6890411 , 0.68356164, 0.67578659, 0.69767442, 0.71506849]), 'test_f1_score': array([0.69523151, 0.70629866, 0.6923616 , 0.70393375, 0.70875764])}\n",
      "Precision of model with precision score is :0.7109536370290618\n",
      "Precision of model with recall score is :0.6922264490377227\n",
      "Precision of model with f1 score is :0.7013166302926965\n"
     ]
    }
   ],
   "source": [
    "from sklearn.model_selection import cross_validate,StratifiedKFold\n",
    "\n",
    "from sklearn.metrics import make_scorer, accuracy_score, precision_score, recall_score, f1_score\n",
    "\n",
    "scoring = {'precision' : make_scorer(precision_score),\n",
    "           'recall' : make_scorer(recall_score), \n",
    "           'f1_score' : make_scorer(f1_score)}\n",
    "\n",
    "\n",
    "stratifiedkf=StratifiedKFold(n_splits=5)\n",
    "score=cross_validate(svm,X,Y,cv=stratifiedkf,scoring=scoring)\n",
    "print(score)\n",
    "print(\"Precision of model with precision score is :{}\".format(score[\"test_precision\"].mean()))\n",
    "print(\"Precision of model with recall score is :{}\".format(score[\"test_recall\"].mean()))\n",
    "print(\"Precision of model with f1 score is :{}\".format(score[\"test_f1_score\"].mean()))"
   ]
  },
  {
   "cell_type": "markdown",
   "metadata": {},
   "source": [
    "## ADA Boost classifier"
   ]
  },
  {
   "cell_type": "code",
   "execution_count": 189,
   "metadata": {},
   "outputs": [
    {
     "name": "stderr",
     "output_type": "stream",
     "text": [
      "C:\\Users\\madap\\Anaconda3\\lib\\site-packages\\sklearn\\utils\\validation.py:985: DataConversionWarning: A column-vector y was passed when a 1d array was expected. Please change the shape of y to (n_samples, ), for example using ravel().\n",
      "  y = column_or_1d(y, warn=True)\n"
     ]
    }
   ],
   "source": [
    "from sklearn.ensemble import AdaBoostClassifier\n",
    "\n",
    "ada = AdaBoostClassifier(n_estimators=50,\n",
    "                         learning_rate=1)\n",
    "# Train Adaboost Classifer\n",
    "ada = ada.fit(x_train, y_train)\n",
    "\n",
    "#Predict the response for test dataset\n",
    "y_pred = ada.predict(x_test)"
   ]
  },
  {
   "cell_type": "code",
   "execution_count": 190,
   "metadata": {},
   "outputs": [
    {
     "name": "stdout",
     "output_type": "stream",
     "text": [
      "              precision    recall  f1-score   support\n",
      "\n",
      "           0       0.84      0.86      0.85      1455\n",
      "           1       0.86      0.84      0.85      1467\n",
      "\n",
      "    accuracy                           0.85      2922\n",
      "   macro avg       0.85      0.85      0.85      2922\n",
      "weighted avg       0.85      0.85      0.85      2922\n",
      "\n"
     ]
    }
   ],
   "source": [
    "from sklearn.metrics import confusion_matrix,accuracy_score,classification_report\n",
    "print(classification_report(y_test,y_pred))"
   ]
  },
  {
   "cell_type": "code",
   "execution_count": 191,
   "metadata": {},
   "outputs": [
    {
     "name": "stdout",
     "output_type": "stream",
     "text": [
      "[[1249  206]\n",
      " [ 238 1229]]\n",
      "Precision: 0.856\n",
      "Recall: 0.838\n",
      "F1 Score: 0.847\n"
     ]
    }
   ],
   "source": [
    "\n",
    "from sklearn.metrics import precision_score, recall_score, f1_score, accuracy_score\n",
    "from sklearn.metrics import confusion_matrix\n",
    "\n",
    "cm6=confusion_matrix(y_test,y_pred)\n",
    "print(cm6)\n",
    "\n",
    "print('Precision: %.3f' % precision_score(y_test, y_pred))\n",
    "print('Recall: %.3f' % recall_score(y_test, y_pred))\n",
    "print('F1 Score: %.3f' % f1_score(y_test, y_pred))"
   ]
  },
  {
   "cell_type": "code",
   "execution_count": 192,
   "metadata": {},
   "outputs": [
    {
     "data": {
      "text/plain": [
       "84.80492813141683"
      ]
     },
     "execution_count": 192,
     "metadata": {},
     "output_type": "execute_result"
    }
   ],
   "source": [
    "from sklearn.metrics import accuracy_score\n",
    "\n",
    "accuracy_score(y_test,y_pred)*100"
   ]
  },
  {
   "cell_type": "code",
   "execution_count": 193,
   "metadata": {},
   "outputs": [
    {
     "data": {
      "image/png": "[encoded data removed]",
      "text/plain": [
       "<Figure size 432x288 with 1 Axes>"
      ]
     },
     "metadata": {
      "needs_background": "light"
     },
     "output_type": "display_data"
    }
   ],
   "source": [
    "y_pred_proba5 = ada.predict_proba(x_test)[::,1]\n",
    "fpr5, tpr5, _ = metrics.roc_curve(y_test,  y_pred_proba4)\n",
    "\n",
    "#create ROC curve\n",
    "plt.plot(fpr5,tpr5)\n",
    "plt.ylabel('True Positive Rate')\n",
    "plt.xlabel('False Positive Rate')\n",
    "plt.title(\"ADA Boost - ROS\")\n",
    "plt.show()"
   ]
  },
  {
   "cell_type": "code",
   "execution_count": 194,
   "metadata": {},
   "outputs": [
    {
     "name": "stderr",
     "output_type": "stream",
     "text": [
      "C:\\Users\\madap\\Anaconda3\\lib\\site-packages\\sklearn\\utils\\validation.py:985: DataConversionWarning: A column-vector y was passed when a 1d array was expected. Please change the shape of y to (n_samples, ), for example using ravel().\n",
      "  y = column_or_1d(y, warn=True)\n",
      "C:\\Users\\madap\\Anaconda3\\lib\\site-packages\\sklearn\\utils\\validation.py:985: DataConversionWarning: A column-vector y was passed when a 1d array was expected. Please change the shape of y to (n_samples, ), for example using ravel().\n",
      "  y = column_or_1d(y, warn=True)\n",
      "C:\\Users\\madap\\Anaconda3\\lib\\site-packages\\sklearn\\utils\\validation.py:985: DataConversionWarning: A column-vector y was passed when a 1d array was expected. Please change the shape of y to (n_samples, ), for example using ravel().\n",
      "  y = column_or_1d(y, warn=True)\n",
      "C:\\Users\\madap\\Anaconda3\\lib\\site-packages\\sklearn\\utils\\validation.py:985: DataConversionWarning: A column-vector y was passed when a 1d array was expected. Please change the shape of y to (n_samples, ), for example using ravel().\n",
      "  y = column_or_1d(y, warn=True)\n",
      "C:\\Users\\madap\\Anaconda3\\lib\\site-packages\\sklearn\\utils\\validation.py:985: DataConversionWarning: A column-vector y was passed when a 1d array was expected. Please change the shape of y to (n_samples, ), for example using ravel().\n",
      "  y = column_or_1d(y, warn=True)\n"
     ]
    },
    {
     "name": "stdout",
     "output_type": "stream",
     "text": [
      "Cross Validation Scores are [0.83230664 0.85831622 0.83778234 0.83709788 0.82876712]\n",
      "Accuracy of model with cross validation score is :83.88540406739612\n"
     ]
    }
   ],
   "source": [
    "# K-fold cross validation\n",
    "\n",
    "from sklearn.model_selection import cross_val_score,StratifiedKFold\n",
    "\n",
    "stratifiedkf=StratifiedKFold(n_splits=5)\n",
    "score=cross_val_score(ada,X,Y,cv=stratifiedkf)\n",
    "print(\"Cross Validation Scores are {}\".format(score))\n",
    "print(\"Accuracy of model with cross validation score is :{}\".format(score.mean()*100))"
   ]
  },
  {
   "cell_type": "code",
   "execution_count": 195,
   "metadata": {},
   "outputs": [
    {
     "name": "stderr",
     "output_type": "stream",
     "text": [
      "C:\\Users\\madap\\Anaconda3\\lib\\site-packages\\sklearn\\utils\\validation.py:985: DataConversionWarning: A column-vector y was passed when a 1d array was expected. Please change the shape of y to (n_samples, ), for example using ravel().\n",
      "  y = column_or_1d(y, warn=True)\n",
      "C:\\Users\\madap\\Anaconda3\\lib\\site-packages\\sklearn\\utils\\validation.py:985: DataConversionWarning: A column-vector y was passed when a 1d array was expected. Please change the shape of y to (n_samples, ), for example using ravel().\n",
      "  y = column_or_1d(y, warn=True)\n",
      "C:\\Users\\madap\\Anaconda3\\lib\\site-packages\\sklearn\\utils\\validation.py:985: DataConversionWarning: A column-vector y was passed when a 1d array was expected. Please change the shape of y to (n_samples, ), for example using ravel().\n",
      "  y = column_or_1d(y, warn=True)\n",
      "C:\\Users\\madap\\Anaconda3\\lib\\site-packages\\sklearn\\utils\\validation.py:985: DataConversionWarning: A column-vector y was passed when a 1d array was expected. Please change the shape of y to (n_samples, ), for example using ravel().\n",
      "  y = column_or_1d(y, warn=True)\n",
      "C:\\Users\\madap\\Anaconda3\\lib\\site-packages\\sklearn\\utils\\validation.py:985: DataConversionWarning: A column-vector y was passed when a 1d array was expected. Please change the shape of y to (n_samples, ), for example using ravel().\n",
      "  y = column_or_1d(y, warn=True)\n"
     ]
    },
    {
     "name": "stdout",
     "output_type": "stream",
     "text": [
      "{'fit_time': array([0.41192722, 0.38995481, 0.40292501, 0.38995862, 0.65624285]), 'score_time': array([0.02190495, 0.02094388, 0.02094102, 0.02593231, 0.04788613]), 'test_precision': array([0.83264746, 0.86068966, 0.85590778, 0.84379358, 0.83994334]), 'test_recall': array([0.83150685, 0.85479452, 0.8125855 , 0.82763338, 0.81232877]), 'test_f1_score': array([0.83207676, 0.85773196, 0.83368421, 0.83563536, 0.82590529])}\n",
      "Precision of model with precision score is :0.846596365116979\n",
      "Precision of model with recall score is :0.8277698030470552\n",
      "Precision of model with f1 score is :0.8370067171583606\n"
     ]
    }
   ],
   "source": [
    "from sklearn.model_selection import cross_validate,StratifiedKFold\n",
    "\n",
    "from sklearn.metrics import make_scorer, accuracy_score, precision_score, recall_score, f1_score\n",
    "\n",
    "scoring = {'precision' : make_scorer(precision_score),\n",
    "           'recall' : make_scorer(recall_score), \n",
    "           'f1_score' : make_scorer(f1_score)}\n",
    "\n",
    "\n",
    "stratifiedkf=StratifiedKFold(n_splits=5)\n",
    "score=cross_validate(ada,X,Y,cv=stratifiedkf,scoring=scoring)\n",
    "print(score)\n",
    "print(\"Precision of model with precision score is :{}\".format(score[\"test_precision\"].mean()))\n",
    "print(\"Precision of model with recall score is :{}\".format(score[\"test_recall\"].mean()))\n",
    "print(\"Precision of model with f1 score is :{}\".format(score[\"test_f1_score\"].mean()))"
   ]
  },
  {
   "cell_type": "code",
   "execution_count": 88,
   "metadata": {},
   "outputs": [
    {
     "data": {
      "image/png": "[encoded data removed]",
      "text/plain": [
       "<Figure size 432x288 with 1 Axes>"
      ]
     },
     "metadata": {
      "needs_background": "light"
     },
     "output_type": "display_data"
    }
   ],
   "source": [
    "from sklearn.metrics import roc_curve\n",
    "\n",
    "plt.plot([0,1],[0,1], 'k--')\n",
    "plt.plot(fpr1, tpr1, label= \"Decision Tree\")\n",
    "plt.plot(fpr2, tpr2, label= \"Naive bayes\")\n",
    "plt.plot(fpr3, tpr3, label= \"Logistic regression\")\n",
    "plt.plot(fpr4, tpr4, label= \"KNN\")\n",
    "plt.plot(fpr5, tpr5, label= \"ADA Boost\")\n",
    "plt.legend()\n",
    "plt.xlabel(\"FPR\")\n",
    "plt.ylabel(\"TPR\")\n",
    "plt.title('ROS-FeatureExtraction')\n",
    "plt.show()"
   ]
  },
  {
   "cell_type": "code",
   "execution_count": null,
   "metadata": {},
   "outputs": [],
   "source": []
  }
 ],
 "metadata": {
  "kernelspec": {
   "display_name": "Python 3",
   "language": "python",
   "name": "python3"
  },
  "language_info": {
   "codemirror_mode": {
    "name": "ipython",
    "version": 3
   },
   "file_extension": ".py",
   "mimetype": "text/x-python",
   "name": "python",
   "nbconvert_exporter": "python",
   "pygments_lexer": "ipython3",
   "version": "3.7.3"
  }
 },
 "nbformat": 4,
 "nbformat_minor": 2
}
